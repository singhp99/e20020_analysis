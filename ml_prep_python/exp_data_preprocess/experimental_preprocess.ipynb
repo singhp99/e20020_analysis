{
 "cells": [
  {
   "cell_type": "markdown",
   "metadata": {},
   "source": [
    "<h1 align=\"center\">Experimental Preprocessing Pipeline</h1>"
   ]
  },
  {
   "cell_type": "markdown",
   "metadata": {},
   "source": [
    "<h2>Importing all Packages</h2>"
   ]
  },
  {
   "cell_type": "code",
   "execution_count": 1,
   "metadata": {},
   "outputs": [],
   "source": [
    "import numpy as np\n",
    "import random\n",
    "import numpy as np\n",
    "import tqdm\n",
    "import json\n",
    "import matplotlib.pyplot as plt\n",
    "import h5py\n",
    "from sklearn.pipeline import Pipeline\n",
    "from sklearn.base import BaseEstimator, TransformerMixin #for GridSearchCv\n",
    "from sklearn.preprocessing import MinMaxScaler\n",
    "from sklearn.model_selection import train_test_split"
   ]
  },
  {
   "cell_type": "markdown",
   "metadata": {},
   "source": [
    "## Converting Files"
   ]
  },
  {
   "cell_type": "code",
   "execution_count": null,
   "metadata": {},
   "outputs": [],
   "source": [
    "class ConvertingFiles():\n",
    "    \"\"\"\n",
    "    Parameters:\n",
    "    None\n",
    "    \n",
    "    Return\n",
    "    (event_data, event_lengths) (packed np.arrays): data converted into .npy format\n",
    "    \"\"\"\n",
    "    \n",
    "    def __init__(self):\n",
    "        pass\n",
    "    \n",
    "    def fit(self,X,y=None):\n",
    "        return self\n",
    "    \n",
    "    def transform(self,X,y=None):\n",
    "        file_h5py = h5py.File(X)\n",
    "        keys_ls = list(file_h5py.keys())[0]\n",
    "        keys = file_h5py[keys_ls]\n",
    "        \n",
    "        length_run = len(keys)\n",
    "        event_lengths = np.zeros(length_run,int)\n",
    "        \n",
    "        event_data = np.full((length_run,np.max(event_lengths),4),np.nan)\n",
    "        \n",
    "        for i,e in enumerate(keys):\n",
    "            event_lengths[i] = len(keys[e])\n",
    "            \n",
    "        for idx, key in tqdm.tqdm(enumerate(keys), desc=\"Stripping Point Clouds of ID information\"):\n",
    "            event_data[i] = keys[e]\n",
    "            \n",
    "        assert all(len(event_data[i]) == np.max(event_lengths) for i in range(len(event_data))), \"Array length does not match number of events\"\n",
    "        \n",
    "        return (event_data,event_lengths)"
   ]
  },
  {
   "cell_type": "markdown",
   "metadata": {},
   "source": [
    "<h2>Outlier Detection</h2>"
   ]
  },
  {
   "cell_type": "code",
   "execution_count": null,
   "metadata": {},
   "outputs": [],
   "source": [
    "class OutlierDetection:\n",
    "    \"\"\"\n",
    "    Parameters\n",
    "    None\n",
    "\n",
    "    Return\n",
    "    (event_data,new_event_lengths) (packed np.arrays): outliers removed packed data\n",
    "\n",
    "    \"\"\"\n",
    "    def __init__(self):\n",
    "        pass\n",
    "\n",
    "    def fit(self,X,y=None):\n",
    "        return self\n",
    "    \n",
    "    def transform(self,X,y=None):\n",
    "        data,event_lengths = X\n",
    "        event_data = np.full(data.shape, np.nan)\n",
    "        new_event_lengths = np.full_like(event_lengths, np.nan)\n",
    "        tot_count = 0\n",
    "\n",
    "        for i in range(len(data)):\n",
    "            event_points = data[i,:]\n",
    "            condition = ((-270 <= event_points[:, 0]) & (event_points[:, 0] <= 270) &   \n",
    "                (-270 <= event_points[:, 1]) & (event_points[:, 1] <= 270) &\n",
    "                (0 <= event_points[:, 2]) & (event_points[:, 2]  <= 1003))\n",
    "            allowed_points = event_points[condition] #only allows points that are not outliers\n",
    "\n",
    "            event_data[i,:len(allowed_points)] = allowed_points #only assigns the valid points to the new array\n",
    "\n",
    "            new_event_lengths[i] = len(allowed_points)  #original event number minus the number of outliers\n",
    "            tot_count+=event_lengths[i] - new_event_lengths[i]\n",
    "\n",
    "        print(f\"Number of outlier points removed: {tot_count}\") \n",
    "        return (event_data,new_event_lengths)"
   ]
  },
  {
   "cell_type": "markdown",
   "metadata": {},
   "source": [
    "<h2>Up/Down Scaling</h2>"
   ]
  },
  {
   "cell_type": "code",
   "execution_count": null,
   "metadata": {},
   "outputs": [],
   "source": [
    "class UpDownScaling(BaseEstimator,TransformerMixin):\n",
    "    \"\"\"\n",
    "    Parameters\n",
    "    target_size (int): which is the number of point I want to up/doen sample to \n",
    "\n",
    "    Return\n",
    "    new_data (np.array): up/down sampled data with shape (run_events, target_size,4) \n",
    "\n",
    "    \"\"\"\n",
    "    def __init__(self,target_size,isotope,dimension=4):\n",
    "        self.target_size = target_size\n",
    "        self.pcloud_zeros = 0 #count if there are zero points in an event\n",
    "        self.dimension = dimension \n",
    "        self.isotope = isotope\n",
    "\n",
    "    def fit(self,X,y=None):\n",
    "        return self \n",
    "\n",
    "    def transform(self,X,y=None): #for up/down scaling\n",
    "        data,event_lengths = X #with shape (file,event_lenghts) X needs to be the only input to preserve the conventions of custom transformer\n",
    "        len_run = len(data)\n",
    "        # new_array_name = isotope + '_size' + str(sample_size) + '_sampled'\n",
    "        new_data = np.full((len_run, self.target_size, self.dimension), np.nan) \n",
    "\n",
    "        for i in tqdm.tqdm(range(len_run),desc=\"Up/Downscaling in progress\"): #\n",
    "            ev_len = event_lengths[i] #length of event-- i.e. number of instances\n",
    "            if ev_len == 0: #if event length is 0\n",
    "                print(f\"This event has 0 length: {i}\")\n",
    "                self.pcloud_zeros+=1\n",
    "                continue\n",
    "            if ev_len > self.target_size: #upsample\n",
    "                random_points = np.random.choice(ev_len, self.target_size, replace=False)  #choosing the random instances to sample\n",
    "                for r in range(len(random_points)):  # #only adds random sample_size points \n",
    "                    new_data[i,r] = data[i,random_points[r]]\n",
    "\n",
    "            else:\n",
    "                new_data[i,:ev_len,:] = data[i,:ev_len,:] #downsample\n",
    "                need = self.target_size - ev_len\n",
    "                random_points = np.random.choice(ev_len, need, replace= True if need > ev_len else False) #only repeats points more points needed than event length \n",
    "                count = ev_len\n",
    "                for r in random_points:\n",
    "                    new_data[i,count] = data[i,r]\n",
    "                    if np.isnan(new_data[i, count, 0]):\n",
    "                        print(f\"NaN found at event {i}, index {count}\") #need to make sure no nans remain\n",
    "                    count += 1\n",
    "\n",
    "\n",
    "        \n",
    "        \n",
    "        assert self.pcloud_zeros ==0, \"There are events with no points\"\n",
    "        assert new_data.shape == (len_run, self.target_size, self.dimension), 'Array has incorrect shape'\n",
    "        assert not np.isnan(new_data).any(), \"NaNs detected in new_data\" #very imporant to make sure there are no nans \n",
    "        \n",
    "        print(f\"Resampled shape of data: {new_data.shape}\")\n",
    "        return new_data"
   ]
  },
  {
   "cell_type": "markdown",
   "metadata": {},
   "source": [
    "<h2>Scaling</h2>"
   ]
  },
  {
   "cell_type": "code",
   "execution_count": null,
   "metadata": {},
   "outputs": [],
   "source": [
    "class ScalingData(BaseEstimator,TransformerMixin):\n",
    "    \"\"\"\n",
    "    Parameters\n",
    "    None\n",
    "\n",
    "    Return\n",
    "    X (np.array): MinMaxScaler() applied data for all columns\n",
    "\n",
    "    \"\"\"\n",
    "    def __init__(self,dimension=4):\n",
    "        self.dimension = dimension\n",
    "        self.scaler = MinMaxScaler(feature_range=(-1, 1))\n",
    "\n",
    "    def fit(self,X,y=None):\n",
    "        return self \n",
    "    \n",
    "    def transform(self,X,y=None):\n",
    "        n_dict = {0:\"x\",1:\"y\",2:\"z\",3:\"charge\"}\n",
    "        for n in range(self.dimension):\n",
    "            data = X[:, :, n].reshape(-1, 1) #need to flatted the 2-D array first new shape (num_events*target_size)\n",
    "            X[:, :, n] = self.scaler.fit_transform(data).reshape(X.shape[0], X.shape[1])\n",
    "            print(f\"Scaler min and max for feature {n_dict[n]}: {self.scaler.data_min_[0]}, {self.scaler.data_max_[0]}\")\n",
    "\n",
    "        return X"
   ]
  },
  {
   "cell_type": "markdown",
   "metadata": {},
   "source": [
    "<h2>Forming the pipeline</h2>"
   ]
  },
  {
   "cell_type": "code",
   "execution_count": null,
   "metadata": {},
   "outputs": [
    {
     "name": "stdout",
     "output_type": "stream",
     "text": [
      "Pipeline for Run 10\n",
      "Number of events skipped: 4\n"
     ]
    },
    {
     "name": "stderr",
     "output_type": "stream",
     "text": [
      "/mnt/home/singhp19/.conda/envs/tf_Jul2025/lib/python3.10/site-packages/numpy/_core/numeric.py:442: RuntimeWarning: invalid value encountered in cast\n",
      "  multiarray.copyto(res, fill_value, casting='unsafe')\n"
     ]
    },
    {
     "name": "stdout",
     "output_type": "stream",
     "text": [
      "Number of outlier points removed: 0\n"
     ]
    },
    {
     "name": "stderr",
     "output_type": "stream",
     "text": [
      "100%|██████████| 9536/9536 [00:06<00:00, 1501.79it/s]\n"
     ]
    },
    {
     "name": "stdout",
     "output_type": "stream",
     "text": [
      "Transformed shape of data: (9536, 802, 4)\n",
      "Pipeline for Run 11\n",
      "Number of events skipped: 14\n",
      "Number of outlier points removed: 0\n"
     ]
    },
    {
     "name": "stderr",
     "output_type": "stream",
     "text": [
      "100%|██████████| 9551/9551 [00:06<00:00, 1558.81it/s]\n"
     ]
    },
    {
     "name": "stdout",
     "output_type": "stream",
     "text": [
      "Transformed shape of data: (9551, 802, 4)\n",
      "Pipeline for Run 12\n",
      "Number of events skipped: 7\n",
      "Number of outlier points removed: 0\n"
     ]
    },
    {
     "name": "stderr",
     "output_type": "stream",
     "text": [
      "100%|██████████| 9552/9552 [00:06<00:00, 1523.83it/s]\n"
     ]
    },
    {
     "name": "stdout",
     "output_type": "stream",
     "text": [
      "Transformed shape of data: (9552, 802, 4)\n",
      "Pipeline for Run 13\n",
      "Number of events skipped: 4\n",
      "Number of outlier points removed: 0\n"
     ]
    },
    {
     "name": "stderr",
     "output_type": "stream",
     "text": [
      "100%|██████████| 9563/9563 [00:06<00:00, 1551.61it/s]\n"
     ]
    },
    {
     "name": "stdout",
     "output_type": "stream",
     "text": [
      "Transformed shape of data: (9563, 802, 4)\n",
      "Pipeline for Run 14\n",
      "Number of events skipped: 6\n",
      "Number of outlier points removed: 0\n"
     ]
    },
    {
     "name": "stderr",
     "output_type": "stream",
     "text": [
      "100%|██████████| 9590/9590 [00:06<00:00, 1545.99it/s]\n"
     ]
    },
    {
     "name": "stdout",
     "output_type": "stream",
     "text": [
      "Transformed shape of data: (9590, 802, 4)\n",
      "Pipeline for Run 15\n",
      "Number of events skipped: 2\n",
      "Number of outlier points removed: 0\n"
     ]
    },
    {
     "name": "stderr",
     "output_type": "stream",
     "text": [
      "100%|██████████| 9544/9544 [00:06<00:00, 1543.53it/s]\n"
     ]
    },
    {
     "name": "stdout",
     "output_type": "stream",
     "text": [
      "Transformed shape of data: (9544, 802, 4)\n",
      "Pipeline for Run 16\n",
      "Number of events skipped: 1\n",
      "Number of outlier points removed: 0\n"
     ]
    },
    {
     "name": "stderr",
     "output_type": "stream",
     "text": [
      "100%|██████████| 9539/9539 [00:06<00:00, 1546.22it/s]\n"
     ]
    },
    {
     "name": "stdout",
     "output_type": "stream",
     "text": [
      "Transformed shape of data: (9539, 802, 4)\n",
      "Pipeline for Run 17\n",
      "Number of events skipped: 2\n",
      "Number of outlier points removed: 0\n"
     ]
    },
    {
     "name": "stderr",
     "output_type": "stream",
     "text": [
      "100%|██████████| 9515/9515 [00:06<00:00, 1539.21it/s]\n"
     ]
    },
    {
     "name": "stdout",
     "output_type": "stream",
     "text": [
      "Transformed shape of data: (9515, 802, 4)\n",
      "Pipeline for Run 18\n",
      "Number of events skipped: 3\n",
      "Number of outlier points removed: 0\n"
     ]
    },
    {
     "name": "stderr",
     "output_type": "stream",
     "text": [
      "100%|██████████| 9531/9531 [00:06<00:00, 1537.69it/s]\n"
     ]
    },
    {
     "name": "stdout",
     "output_type": "stream",
     "text": [
      "Transformed shape of data: (9531, 802, 4)\n",
      "Pipeline for Run 19\n",
      "Number of events skipped: 3\n",
      "Number of outlier points removed: 0\n"
     ]
    },
    {
     "name": "stderr",
     "output_type": "stream",
     "text": [
      "100%|██████████| 9562/9562 [00:06<00:00, 1501.20it/s]\n"
     ]
    },
    {
     "name": "stdout",
     "output_type": "stream",
     "text": [
      "Transformed shape of data: (9562, 802, 4)\n",
      "Pipeline for Run 20\n",
      "Number of events skipped: 7\n",
      "Number of outlier points removed: 0\n"
     ]
    },
    {
     "name": "stderr",
     "output_type": "stream",
     "text": [
      "100%|██████████| 9542/9542 [00:06<00:00, 1513.37it/s]\n"
     ]
    },
    {
     "name": "stdout",
     "output_type": "stream",
     "text": [
      "Transformed shape of data: (9542, 802, 4)\n",
      "Pipeline for Run 21\n",
      "Number of events skipped: 7\n",
      "Number of outlier points removed: 0\n"
     ]
    },
    {
     "name": "stderr",
     "output_type": "stream",
     "text": [
      "100%|██████████| 9552/9552 [00:06<00:00, 1518.59it/s]\n"
     ]
    },
    {
     "name": "stdout",
     "output_type": "stream",
     "text": [
      "Transformed shape of data: (9552, 802, 4)\n",
      "Pipeline for Run 22\n",
      "Number of events skipped: 2\n",
      "Number of outlier points removed: 0\n"
     ]
    },
    {
     "name": "stderr",
     "output_type": "stream",
     "text": [
      "100%|██████████| 9549/9549 [00:06<00:00, 1537.25it/s]\n"
     ]
    },
    {
     "name": "stdout",
     "output_type": "stream",
     "text": [
      "Transformed shape of data: (9549, 802, 4)\n",
      "Pipeline for Run 23\n",
      "Number of events skipped: 10\n",
      "Number of outlier points removed: 0\n"
     ]
    },
    {
     "name": "stderr",
     "output_type": "stream",
     "text": [
      "100%|██████████| 9577/9577 [00:06<00:00, 1526.24it/s]\n"
     ]
    },
    {
     "name": "stdout",
     "output_type": "stream",
     "text": [
      "Transformed shape of data: (9577, 802, 4)\n",
      "Pipeline for Run 24\n",
      "Number of events skipped: 2\n",
      "Number of outlier points removed: 0\n"
     ]
    },
    {
     "name": "stderr",
     "output_type": "stream",
     "text": [
      "100%|██████████| 9561/9561 [00:06<00:00, 1547.68it/s]\n"
     ]
    },
    {
     "name": "stdout",
     "output_type": "stream",
     "text": [
      "Transformed shape of data: (9561, 802, 4)\n",
      "Pipeline for Run 25\n",
      "Number of events skipped: 10\n",
      "Number of outlier points removed: 0\n"
     ]
    },
    {
     "name": "stderr",
     "output_type": "stream",
     "text": [
      "100%|██████████| 9525/9525 [00:06<00:00, 1532.06it/s]\n"
     ]
    },
    {
     "name": "stdout",
     "output_type": "stream",
     "text": [
      "Transformed shape of data: (9525, 802, 4)\n",
      "Pipeline for Run 26\n",
      "Number of events skipped: 8\n",
      "Number of outlier points removed: 0\n"
     ]
    },
    {
     "name": "stderr",
     "output_type": "stream",
     "text": [
      "100%|██████████| 9572/9572 [00:06<00:00, 1541.95it/s]\n"
     ]
    },
    {
     "name": "stdout",
     "output_type": "stream",
     "text": [
      "Transformed shape of data: (9572, 802, 4)\n",
      "Pipeline for Run 27\n",
      "Number of events skipped: 9\n",
      "Number of outlier points removed: 0\n"
     ]
    },
    {
     "name": "stderr",
     "output_type": "stream",
     "text": [
      "100%|██████████| 9538/9538 [00:06<00:00, 1519.03it/s]\n"
     ]
    },
    {
     "name": "stdout",
     "output_type": "stream",
     "text": [
      "Transformed shape of data: (9538, 802, 4)\n",
      "Pipeline for Run 28\n",
      "Number of events skipped: 2\n",
      "Number of outlier points removed: 0\n"
     ]
    },
    {
     "name": "stderr",
     "output_type": "stream",
     "text": [
      "100%|██████████| 9540/9540 [00:06<00:00, 1538.73it/s]\n"
     ]
    },
    {
     "name": "stdout",
     "output_type": "stream",
     "text": [
      "Transformed shape of data: (9540, 802, 4)\n",
      "Pipeline for Run 29\n",
      "Number of events skipped: 7\n",
      "Number of outlier points removed: 1\n"
     ]
    },
    {
     "name": "stderr",
     "output_type": "stream",
     "text": [
      "100%|██████████| 9546/9546 [00:06<00:00, 1510.16it/s]\n"
     ]
    },
    {
     "name": "stdout",
     "output_type": "stream",
     "text": [
      "Transformed shape of data: (9546, 802, 4)\n",
      "Pipeline for Run 30\n",
      "Number of events skipped: 2\n",
      "Number of outlier points removed: 0\n"
     ]
    },
    {
     "name": "stderr",
     "output_type": "stream",
     "text": [
      "100%|██████████| 9554/9554 [00:06<00:00, 1452.56it/s]\n"
     ]
    },
    {
     "name": "stdout",
     "output_type": "stream",
     "text": [
      "Transformed shape of data: (9554, 802, 4)\n",
      "Pipeline for Run 31\n",
      "Number of events skipped: 2\n",
      "Number of outlier points removed: 0\n"
     ]
    },
    {
     "name": "stderr",
     "output_type": "stream",
     "text": [
      "100%|██████████| 9568/9568 [00:06<00:00, 1540.86it/s]\n"
     ]
    },
    {
     "name": "stdout",
     "output_type": "stream",
     "text": [
      "Transformed shape of data: (9568, 802, 4)\n",
      "Pipeline for Run 32\n",
      "Number of events skipped: 5\n",
      "Number of outlier points removed: 0\n"
     ]
    },
    {
     "name": "stderr",
     "output_type": "stream",
     "text": [
      "100%|██████████| 9540/9540 [00:06<00:00, 1528.98it/s]\n"
     ]
    },
    {
     "name": "stdout",
     "output_type": "stream",
     "text": [
      "Transformed shape of data: (9540, 802, 4)\n",
      "Pipeline for Run 33\n",
      "Number of events skipped: 3\n",
      "Number of outlier points removed: 0\n"
     ]
    },
    {
     "name": "stderr",
     "output_type": "stream",
     "text": [
      "100%|██████████| 9564/9564 [00:06<00:00, 1529.05it/s]\n"
     ]
    },
    {
     "name": "stdout",
     "output_type": "stream",
     "text": [
      "Transformed shape of data: (9564, 802, 4)\n",
      "Pipeline for Run 34\n",
      "Number of events skipped: 1\n",
      "Number of outlier points removed: 0\n"
     ]
    },
    {
     "name": "stderr",
     "output_type": "stream",
     "text": [
      "100%|██████████| 9558/9558 [00:06<00:00, 1535.29it/s]\n"
     ]
    },
    {
     "name": "stdout",
     "output_type": "stream",
     "text": [
      "Transformed shape of data: (9558, 802, 4)\n",
      "Pipeline for Run 35\n",
      "Number of events skipped: 8\n",
      "Number of outlier points removed: 0\n"
     ]
    },
    {
     "name": "stderr",
     "output_type": "stream",
     "text": [
      "100%|██████████| 9544/9544 [00:06<00:00, 1533.76it/s]\n"
     ]
    },
    {
     "name": "stdout",
     "output_type": "stream",
     "text": [
      "Transformed shape of data: (9544, 802, 4)\n",
      "Pipeline for Run 36\n",
      "Number of events skipped: 4\n",
      "Number of outlier points removed: 0\n"
     ]
    },
    {
     "name": "stderr",
     "output_type": "stream",
     "text": [
      "100%|██████████| 9554/9554 [00:06<00:00, 1505.76it/s]\n"
     ]
    },
    {
     "name": "stdout",
     "output_type": "stream",
     "text": [
      "Transformed shape of data: (9554, 802, 4)\n",
      "Pipeline for Run 37\n",
      "Number of events skipped: 14\n",
      "Number of outlier points removed: 0\n"
     ]
    },
    {
     "name": "stderr",
     "output_type": "stream",
     "text": [
      "100%|██████████| 9541/9541 [00:06<00:00, 1529.45it/s]\n"
     ]
    },
    {
     "name": "stdout",
     "output_type": "stream",
     "text": [
      "Transformed shape of data: (9541, 802, 4)\n",
      "Pipeline for Run 38\n",
      "Number of events skipped: 10\n",
      "Number of outlier points removed: 0\n"
     ]
    },
    {
     "name": "stderr",
     "output_type": "stream",
     "text": [
      "100%|██████████| 9569/9569 [00:06<00:00, 1541.56it/s]\n"
     ]
    },
    {
     "name": "stdout",
     "output_type": "stream",
     "text": [
      "Transformed shape of data: (9569, 802, 4)\n",
      "Pipeline for Run 39\n",
      "Number of events skipped: 5\n",
      "Number of outlier points removed: 0\n"
     ]
    },
    {
     "name": "stderr",
     "output_type": "stream",
     "text": [
      "100%|██████████| 9450/9450 [00:06<00:00, 1534.15it/s]\n"
     ]
    },
    {
     "name": "stdout",
     "output_type": "stream",
     "text": [
      "Transformed shape of data: (9450, 802, 4)\n",
      "Pipeline for Run 40\n",
      "Number of events skipped: 5\n",
      "Number of outlier points removed: 0\n"
     ]
    },
    {
     "name": "stderr",
     "output_type": "stream",
     "text": [
      "100%|██████████| 9542/9542 [00:06<00:00, 1417.09it/s]\n"
     ]
    },
    {
     "name": "stdout",
     "output_type": "stream",
     "text": [
      "Transformed shape of data: (9542, 802, 4)\n",
      "Pipeline for Run 41\n",
      "Number of events skipped: 11\n",
      "Number of outlier points removed: 0\n"
     ]
    },
    {
     "name": "stderr",
     "output_type": "stream",
     "text": [
      "100%|██████████| 9570/9570 [00:06<00:00, 1506.99it/s]\n"
     ]
    },
    {
     "name": "stdout",
     "output_type": "stream",
     "text": [
      "Transformed shape of data: (9570, 802, 4)\n",
      "Pipeline for Run 42\n",
      "Number of events skipped: 3\n",
      "Number of outlier points removed: 0\n"
     ]
    },
    {
     "name": "stderr",
     "output_type": "stream",
     "text": [
      "100%|██████████| 9518/9518 [00:06<00:00, 1528.99it/s]\n"
     ]
    },
    {
     "name": "stdout",
     "output_type": "stream",
     "text": [
      "Transformed shape of data: (9518, 802, 4)\n",
      "Pipeline for Run 43\n",
      "Number of events skipped: 2\n",
      "Number of outlier points removed: 0\n"
     ]
    },
    {
     "name": "stderr",
     "output_type": "stream",
     "text": [
      "100%|██████████| 9576/9576 [00:06<00:00, 1517.36it/s]\n"
     ]
    },
    {
     "name": "stdout",
     "output_type": "stream",
     "text": [
      "Transformed shape of data: (9576, 802, 4)\n",
      "Pipeline for Run 44\n",
      "Number of events skipped: 5\n",
      "Number of outlier points removed: 0\n"
     ]
    },
    {
     "name": "stderr",
     "output_type": "stream",
     "text": [
      "100%|██████████| 9484/9484 [00:06<00:00, 1501.37it/s]\n"
     ]
    },
    {
     "name": "stdout",
     "output_type": "stream",
     "text": [
      "Transformed shape of data: (9484, 802, 4)\n"
     ]
    }
   ],
   "source": [
    "target_size = 800\n",
    "isotope = \"16O\"\n",
    "pipeline_1 = Pipeline([\n",
    "    (\"conversion\", ConvertingFiles()),\n",
    "    (\"outlier\",OutlierDetection()), #getting rid of the outliers\n",
    "    (\"sampler\", UpDownScaling(target_size,isotope)),\n",
    "]) #up/down sampler \n",
    "\n",
    "# The `pipeline_2` is a data processing pipeline that consists of the following steps:\n",
    "pipeline_2 = Pipeline([\n",
    "    (\"scaling\", ScalingData()),\n",
    "]) #scaling (w/ concatonated dataset)\n",
    "\n",
    "run_num = 104 #to look at individual runs\n",
    "\n",
    "\n",
    "print(f\"Pipeline for Run {run_num}\")\n",
    "file_path = \"\"\n",
    "\n",
    "data_static = pipeline_1.fit_transform(file_path)\n"
   ]
  },
  {
   "cell_type": "code",
   "execution_count": null,
   "metadata": {},
   "outputs": [
    {
     "name": "stdout",
     "output_type": "stream",
     "text": [
      "Current class distribution is [ 13848 160739   9381  24316 125307]\n",
      "The new shape after limiting to lowest class(46905, 802, 4)\n",
      "Updated class distribution is [9381 9381 9381 9381 9381]\n",
      "Scaler min and max for feature x: -269.95294, 269.95294\n",
      "Scaler min and max for feature y: -267.79135, 267.79135\n",
      "Scaler min and max for feature z: 0.0, 1002.597601610169\n",
      "Scaler min and max for feature charge: 0.0, 4095.0\n",
      "\n",
      "The full transformed data shape: (46905, 802, 4)\n"
     ]
    }
   ],
   "source": [
    "transformed_data = pipeline_2.fit_transform(data_static)\n",
    "print()\n",
    "print(f\"The full transformed data shape: {transformed_data.shape}\")\n"
   ]
  },
  {
   "cell_type": "markdown",
   "metadata": {},
   "source": [
    "<h2>Visualizaing the point cloud</h2>"
   ]
  },
  {
   "cell_type": "code",
   "execution_count": 21,
   "metadata": {},
   "outputs": [
    {
     "name": "stdout",
     "output_type": "stream",
     "text": [
      "Label for the event 15 is 2.0\n"
     ]
    },
    {
     "data": {
      "image/png": "[encoded data removed]",
      "text/plain": [
       "<Figure size 640x480 with 1 Axes>"
      ]
     },
     "metadata": {},
     "output_type": "display_data"
    }
   ],
   "source": [
    "index = 15\n",
    "fig = plt.figure()\n",
    "ax = fig.add_subplot(111, projection='3d')\n",
    "ax.scatter(transformed_data[index,:-2,0], transformed_data[index,:-2,1], transformed_data[index,:-2,2])\n",
    "print(f\"Label for the event {index} is {transformed_data[index,-2,0]}\")\n"
   ]
  },
  {
   "cell_type": "markdown",
   "metadata": {},
   "source": [
    "<h2>Outlier Omission Confirmation</h2>"
   ]
  },
  {
   "cell_type": "code",
   "execution_count": 13,
   "metadata": {},
   "outputs": [
    {
     "name": "stdout",
     "output_type": "stream",
     "text": [
      "[]\n"
     ]
    }
   ],
   "source": [
    "mask = np.any((transformed_data[:, :-2, :3] > 1) | (transformed_data[:, :-2, :3] < -1), axis=(1, 2))\n",
    "indices = np.argwhere(mask)\n",
    "print(indices)\n",
    "assert len(indices) == 0, \"Points remain that are not within range[-1,1]\""
   ]
  },
  {
   "cell_type": "markdown",
   "metadata": {},
   "source": [
    "<h2>Saving to .npy files</h2>"
   ]
  },
  {
   "cell_type": "code",
   "execution_count": null,
   "metadata": {},
   "outputs": [],
   "source": [
    "np.save('/mnt/research/attpc/e20020/Pointet_MLclassification/engine_training_data/' + isotope + '_size' + str(target_size)+'_test_features', X_test) #FILE CHANGE\n",
    "\n"
   ]
  }
 ],
 "metadata": {
  "kernelspec": {
   "display_name": "tf_Jul2025",
   "language": "python",
   "name": "python3"
  },
  "language_info": {
   "codemirror_mode": {
    "name": "ipython",
    "version": 3
   },
   "file_extension": ".py",
   "mimetype": "text/x-python",
   "name": "python",
   "nbconvert_exporter": "python",
   "pygments_lexer": "ipython3",
   "version": "3.10.18"
  }
 },
 "nbformat": 4,
 "nbformat_minor": 2
}
