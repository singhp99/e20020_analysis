{
 "cells": [
  {
   "cell_type": "markdown",
   "metadata": {},
   "source": [
    "<h1 align=\"center\">Experimental Preprocessing Pipeline</h1>"
   ]
  },
  {
   "cell_type": "markdown",
   "metadata": {},
   "source": [
    "<h2>Importing all Packages</h2>"
   ]
  },
  {
   "cell_type": "code",
   "execution_count": 1,
   "metadata": {},
   "outputs": [],
   "source": [
    "import numpy as np\n",
    "import random\n",
    "import numpy as np\n",
    "import tqdm\n",
    "import json\n",
    "import matplotlib.pyplot as plt\n",
    "import h5py\n",
    "from sklearn.pipeline import Pipeline\n",
    "from sklearn.base import BaseEstimator, TransformerMixin #for GridSearchCv\n",
    "from sklearn.preprocessing import MinMaxScaler\n",
    "from sklearn.model_selection import train_test_split\n",
    "from pathlib import Path"
   ]
  },
  {
   "cell_type": "markdown",
   "metadata": {},
   "source": [
    "## Converting Files"
   ]
  },
  {
   "cell_type": "code",
   "execution_count": 2,
   "metadata": {},
   "outputs": [],
   "source": [
    "class ConvertingFiles():\n",
    "    \"\"\"\n",
    "    Parameters:\n",
    "    None\n",
    "    \n",
    "    Return\n",
    "    (event_data, event_lengths) (packed np.arrays): data converted into .npy format\n",
    "    \"\"\"\n",
    "    \n",
    "    def __init__(self, run_num):\n",
    "        self.run_num = run_num\n",
    "    \n",
    "    def fit(self,X,y=None):\n",
    "        return self\n",
    "    \n",
    "    def transform(self,X,y=None):\n",
    "        file_h5py = h5py.File(X)\n",
    "        keys_ls = list(file_h5py.keys())[0]\n",
    "        keys = file_h5py[keys_ls]\n",
    "        \n",
    "        length_run = len(keys)\n",
    "        event_lengths = np.zeros(length_run,int)\n",
    "        \n",
    "        for i,e in enumerate(keys):\n",
    "            length = len(keys[e])\n",
    "            if length > 0: #no point with zero events \n",
    "                event_lengths[i] = length\n",
    "                \n",
    "        valid_mask = event_lengths > 0\n",
    "        event_lengths = event_lengths[valid_mask] #removing the point with the zero point cloud\n",
    "        num_valid = np.sum(valid_mask)\n",
    "        event_data = np.full((num_valid, np.max(event_lengths), 4), np.nan)\n",
    "\n",
    "        valid_idx = 0 #only need to iterate through non-zero events\n",
    "        valid_keys = []\n",
    "        for idx, key in enumerate(tqdm.tqdm(keys, desc=\"Stripping Point Clouds of ID information\")):\n",
    "            dataset = keys[key]\n",
    "            if len(dataset) == 0:\n",
    "                continue\n",
    "            valid_keys.append(key)\n",
    "            for n in range(len(dataset)):\n",
    "                event_data[valid_idx, n] = dataset[n][:4]\n",
    "            valid_idx += 1\n",
    "        \n",
    "        valid_keys = np.array(valid_keys)\n",
    "        np.save(f\"/Volumes/researchEXT/O16/ml models/valid_keys/run{self.run_num}_valid_nonzero_keys.npy\",valid_keys)\n",
    "        \n",
    "        \n",
    "        assert all(len(event_data[i]) == np.max(event_lengths) for i in range(len(event_data))), \"Array length does not match number of events\"\n",
    "        \n",
    "        return (event_data,event_lengths)"
   ]
  },
  {
   "cell_type": "markdown",
   "metadata": {},
   "source": [
    "<h2>Outlier Detection</h2>"
   ]
  },
  {
   "cell_type": "code",
   "execution_count": 3,
   "metadata": {},
   "outputs": [],
   "source": [
    "class OutlierDetection:\n",
    "    \"\"\"\n",
    "    Parameters\n",
    "    None\n",
    "\n",
    "    Return\n",
    "    (event_data,new_event_lengths) (packed np.arrays): outliers removed packed data\n",
    "\n",
    "    \"\"\"\n",
    "    def __init__(self):\n",
    "        pass\n",
    "\n",
    "    def fit(self,X,y=None):\n",
    "        return self\n",
    "    \n",
    "    def transform(self,X,y=None):\n",
    "        data,event_lengths = X\n",
    "        event_data = np.full(data.shape, np.nan)\n",
    "        new_event_lengths = np.full_like(event_lengths, np.nan)\n",
    "        tot_count = 0\n",
    "\n",
    "        for i in range(len(data)):\n",
    "            event_points = data[i,:]\n",
    "            condition = ((-270 <= event_points[:, 0]) & (event_points[:, 0] <= 270) &   \n",
    "                (-270 <= event_points[:, 1]) & (event_points[:, 1] <= 270) &\n",
    "                (0 <= event_points[:, 2]) & (event_points[:, 2]  <= 1500))\n",
    "            allowed_points = event_points[condition] #only allows points that are not outliers\n",
    "\n",
    "            event_data[i,:len(allowed_points)] = allowed_points #only assigns the valid points to the new array\n",
    "\n",
    "            new_event_lengths[i] = len(allowed_points)  #original event number minus the number of outliers\n",
    "            tot_count+=event_lengths[i] - new_event_lengths[i]\n",
    "\n",
    "        print(f\"Number of outlier points removed: {tot_count}\") \n",
    "        return (event_data,new_event_lengths)"
   ]
  },
  {
   "cell_type": "markdown",
   "metadata": {},
   "source": [
    "<h2>Up/Down Scaling</h2>"
   ]
  },
  {
   "cell_type": "code",
   "execution_count": 4,
   "metadata": {},
   "outputs": [],
   "source": [
    "class UpDownScaling(BaseEstimator,TransformerMixin):\n",
    "    \"\"\"\n",
    "    Parameters\n",
    "    target_size (int): which is the number of point I want to up/doen sample to \n",
    "\n",
    "    Return\n",
    "    new_data (np.array): up/down sampled data with shape (run_events, target_size,4) \n",
    "\n",
    "    \"\"\"\n",
    "    def __init__(self,target_size,isotope,dimension=4):\n",
    "        self.target_size = target_size\n",
    "        self.pcloud_zeros = 0 #count if there are zero points in an event\n",
    "        self.dimension = dimension \n",
    "        self.isotope = isotope\n",
    "\n",
    "    def fit(self,X,y=None):\n",
    "        return self \n",
    "\n",
    "    def transform(self,X,y=None): #for up/down scaling\n",
    "        data,event_lengths = X #with shape (file,event_lenghts) X needs to be the only input to preserve the conventions of custom transformer\n",
    "        len_run = len(data)\n",
    "        # new_array_name = isotope + '_size' + str(sample_size) + '_sampled'\n",
    "        new_data = np.full((len_run, self.target_size, self.dimension), np.nan) \n",
    "\n",
    "        for i in tqdm.tqdm(range(len_run),desc=\"Up/Downscaling in progress\"): #\n",
    "            ev_len = event_lengths[i] #length of event-- i.e. number of instances\n",
    "            if ev_len == 0: #if event length is 0\n",
    "                print(f\"This event has 0 length: {i}\")\n",
    "                self.pcloud_zeros+=1\n",
    "                continue\n",
    "            if ev_len > self.target_size: #upsample\n",
    "                random_points = np.random.choice(ev_len, self.target_size, replace=False)  #choosing the random instances to sample\n",
    "                for r in range(len(random_points)):  # #only adds random sample_size points \n",
    "                    new_data[i,r] = data[i,random_points[r]]\n",
    "\n",
    "            else:\n",
    "                new_data[i,:ev_len,:] = data[i,:ev_len,:] #downsample\n",
    "                need = self.target_size - ev_len\n",
    "                random_points = np.random.choice(ev_len, need, replace= True if need > ev_len else False) #only repeats points more points needed than event length \n",
    "                count = ev_len\n",
    "                for r in random_points:\n",
    "                    new_data[i,count] = data[i,r]\n",
    "                    if np.isnan(new_data[i, count, 0]):\n",
    "                        print(f\"NaN found at event {i}, index {count}\") #need to make sure no nans remain\n",
    "                    count += 1\n",
    "\n",
    "\n",
    "        \n",
    "        \n",
    "        assert self.pcloud_zeros == 0, f\"There are {self.pcloud_zeros} events with no points\"\n",
    "        \n",
    "        assert new_data.shape == (len_run, self.target_size, self.dimension), 'Array has incorrect shape'\n",
    "        assert not np.isnan(new_data).any(), \"NaNs detected in new_data\" #very imporant to make sure there are no nans \n",
    "        \n",
    "        print(f\"Resampled shape of data: {new_data.shape}\")\n",
    "        return new_data"
   ]
  },
  {
   "cell_type": "markdown",
   "metadata": {},
   "source": [
    "<h2>Scaling</h2>"
   ]
  },
  {
   "cell_type": "code",
   "execution_count": 5,
   "metadata": {},
   "outputs": [],
   "source": [
    "class ScalingData(BaseEstimator,TransformerMixin):\n",
    "    \"\"\"\n",
    "    Parameters\n",
    "    None\n",
    "\n",
    "    Return\n",
    "    X (np.array): MinMaxScaler() applied data for all columns\n",
    "\n",
    "    \"\"\"\n",
    "    def __init__(self,dimension=4):\n",
    "        self.dimension = dimension\n",
    "        self.scalers = [MinMaxScaler(feature_range=(-1, 1)) for _ in range(dimension)]\n",
    "\n",
    "    def fit(self,X,y=None):\n",
    "        for n in range(self.dimension):\n",
    "            data = X[:, :, n].reshape(-1, 1)\n",
    "            self.scalers[n].fit(data)\n",
    "        return self\n",
    "    \n",
    "    def transform(self,X,y=None):\n",
    "        n_dict = {0:\"x\",1:\"y\",2:\"z\",3:\"charge\"}\n",
    "        for n in range(self.dimension):\n",
    "            data = X[:, :, n].reshape(-1, 1) #need to flatted the 2-D array first new shape (num_events*target_size)\n",
    "            X[:, :, n] = self.scalers[n].transform(data).reshape(X.shape[0], X.shape[1])\n",
    "            print(f\"Scaler min/max for {n_dict[n]}: {self.scalers[n].data_min_[0]}, {self.scalers[n].data_max_[0]}\")\n",
    "\n",
    "        return X"
   ]
  },
  {
   "cell_type": "code",
   "execution_count": 6,
   "metadata": {},
   "outputs": [
    {
     "name": "stdout",
     "output_type": "stream",
     "text": [
      "Pipeline for Run 54\n"
     ]
    },
    {
     "name": "stderr",
     "output_type": "stream",
     "text": [
      "Stripping Point Clouds of ID information: 100%|██████████| 2015/2015 [00:01<00:00, 1588.67it/s]\n",
      "Up/Downscaling in progress: 100%|██████████| 2015/2015 [00:00<00:00, 2802.90it/s]\n"
     ]
    },
    {
     "name": "stdout",
     "output_type": "stream",
     "text": [
      "Resampled shape of data: (2015, 800, 4)\n",
      "Scaler min/max for x: -269.95294, 269.95294\n",
      "Scaler min/max for y: -267.79135, 267.79135\n",
      "Scaler min/max for z: -276.1095196206956, 1694.7421122271514\n",
      "Scaler min/max for charge: 101.0, 3865.0\n",
      "\n",
      "The full transformed data shape: (2015, 800, 4)\n",
      "Pipeline for Run 55\n"
     ]
    },
    {
     "name": "stderr",
     "output_type": "stream",
     "text": [
      "Stripping Point Clouds of ID information: 100%|██████████| 8170/8170 [00:04<00:00, 1814.44it/s]\n",
      "Up/Downscaling in progress: 100%|██████████| 8170/8170 [00:03<00:00, 2589.16it/s]\n"
     ]
    },
    {
     "name": "stdout",
     "output_type": "stream",
     "text": [
      "Resampled shape of data: (8170, 800, 4)\n",
      "Scaler min/max for x: -269.95294, 269.95294\n",
      "Scaler min/max for y: -267.79135, 267.79135\n",
      "Scaler min/max for z: -301.61157294933867, 1521.357779923896\n",
      "Scaler min/max for charge: 101.0, 3861.0\n",
      "\n",
      "The full transformed data shape: (8170, 800, 4)\n",
      "Pipeline for Run 56\n"
     ]
    },
    {
     "name": "stderr",
     "output_type": "stream",
     "text": [
      "Stripping Point Clouds of ID information: 100%|██████████| 2989/2989 [00:01<00:00, 1879.20it/s]\n",
      "Up/Downscaling in progress: 100%|██████████| 2989/2989 [00:01<00:00, 2603.64it/s]\n"
     ]
    },
    {
     "name": "stdout",
     "output_type": "stream",
     "text": [
      "Resampled shape of data: (2989, 800, 4)\n",
      "Scaler min/max for x: -269.95294, 269.95294\n",
      "Scaler min/max for y: -267.79135, 267.79135\n",
      "Scaler min/max for z: -243.66882997207767, 1644.4140539725129\n",
      "Scaler min/max for charge: 101.0, 3813.0\n",
      "\n",
      "The full transformed data shape: (2989, 800, 4)\n",
      "Skipping run 57, as it does not exist\n",
      "Pipeline for Run 58\n"
     ]
    },
    {
     "name": "stderr",
     "output_type": "stream",
     "text": [
      "Stripping Point Clouds of ID information: 100%|██████████| 658/658 [00:00<00:00, 1721.07it/s]\n",
      "Up/Downscaling in progress: 100%|██████████| 658/658 [00:00<00:00, 2728.40it/s]\n"
     ]
    },
    {
     "name": "stdout",
     "output_type": "stream",
     "text": [
      "Resampled shape of data: (658, 800, 4)\n",
      "Scaler min/max for x: -269.95294, 269.95294\n",
      "Scaler min/max for y: -267.79135, 267.79135\n",
      "Scaler min/max for z: -237.92279109358546, 1449.435588454088\n",
      "Scaler min/max for charge: 101.0, 3800.0\n",
      "\n",
      "The full transformed data shape: (658, 800, 4)\n",
      "Pipeline for Run 59\n"
     ]
    },
    {
     "name": "stderr",
     "output_type": "stream",
     "text": [
      "Stripping Point Clouds of ID information: 100%|██████████| 12562/12562 [00:05<00:00, 2347.04it/s]\n",
      "Up/Downscaling in progress: 100%|██████████| 12562/12562 [00:05<00:00, 2404.15it/s]\n"
     ]
    },
    {
     "name": "stdout",
     "output_type": "stream",
     "text": [
      "Resampled shape of data: (12562, 800, 4)\n",
      "Scaler min/max for x: -269.95294, 269.95294\n",
      "Scaler min/max for y: -267.79135, 267.79135\n",
      "Scaler min/max for z: -372.1017894085094, 1581.7993111475391\n",
      "Scaler min/max for charge: 101.0, 3820.0\n",
      "\n",
      "The full transformed data shape: (12562, 800, 4)\n",
      "Pipeline for Run 60\n"
     ]
    },
    {
     "name": "stderr",
     "output_type": "stream",
     "text": [
      "Stripping Point Clouds of ID information: 100%|██████████| 11014/11014 [00:04<00:00, 2308.40it/s]\n",
      "Up/Downscaling in progress: 100%|██████████| 11014/11014 [00:04<00:00, 2386.89it/s]\n"
     ]
    },
    {
     "name": "stdout",
     "output_type": "stream",
     "text": [
      "Resampled shape of data: (11014, 800, 4)\n",
      "Scaler min/max for x: -269.95294, 269.95294\n",
      "Scaler min/max for y: -267.79135, 267.79135\n",
      "Scaler min/max for z: -429.06218749292265, 1668.9940833676385\n",
      "Scaler min/max for charge: 101.0, 3833.0\n",
      "\n",
      "The full transformed data shape: (11014, 800, 4)\n",
      "Pipeline for Run 61\n"
     ]
    },
    {
     "name": "stderr",
     "output_type": "stream",
     "text": [
      "Stripping Point Clouds of ID information: 100%|██████████| 11976/11976 [00:05<00:00, 2313.18it/s]\n",
      "Up/Downscaling in progress: 100%|██████████| 11976/11976 [00:04<00:00, 2400.63it/s]\n"
     ]
    },
    {
     "name": "stdout",
     "output_type": "stream",
     "text": [
      "Resampled shape of data: (11976, 800, 4)\n",
      "Scaler min/max for x: -269.95294, 269.95294\n",
      "Scaler min/max for y: -267.79135, 267.79135\n",
      "Scaler min/max for z: -305.96971254079074, 1540.8229079176285\n",
      "Scaler min/max for charge: 101.0, 3839.0\n",
      "\n",
      "The full transformed data shape: (11976, 800, 4)\n",
      "Pipeline for Run 62\n"
     ]
    },
    {
     "name": "stderr",
     "output_type": "stream",
     "text": [
      "Stripping Point Clouds of ID information: 100%|██████████| 13168/13168 [00:05<00:00, 2278.59it/s]\n",
      "Up/Downscaling in progress: 100%|██████████| 13168/13168 [00:05<00:00, 2377.35it/s]\n"
     ]
    },
    {
     "name": "stdout",
     "output_type": "stream",
     "text": [
      "Resampled shape of data: (13168, 800, 4)\n",
      "Scaler min/max for x: -269.95294, 269.95294\n",
      "Scaler min/max for y: -267.79135, 267.79135\n",
      "Scaler min/max for z: -376.10541214410955, 1606.4173848486428\n",
      "Scaler min/max for charge: 101.0, 3825.0\n",
      "\n",
      "The full transformed data shape: (13168, 800, 4)\n",
      "Pipeline for Run 63\n"
     ]
    },
    {
     "name": "stderr",
     "output_type": "stream",
     "text": [
      "Stripping Point Clouds of ID information: 100%|██████████| 6213/6213 [00:02<00:00, 2418.47it/s]\n",
      "Up/Downscaling in progress: 100%|██████████| 6213/6213 [00:02<00:00, 2374.00it/s]\n"
     ]
    },
    {
     "name": "stdout",
     "output_type": "stream",
     "text": [
      "Resampled shape of data: (6213, 800, 4)\n",
      "Scaler min/max for x: -269.95294, 269.95294\n",
      "Scaler min/max for y: -267.79135, 267.79135\n",
      "Scaler min/max for z: -258.0672948223313, 1471.0930360939433\n",
      "Scaler min/max for charge: 101.0, 3861.0\n",
      "\n",
      "The full transformed data shape: (6213, 800, 4)\n",
      "Pipeline for Run 64\n"
     ]
    },
    {
     "name": "stderr",
     "output_type": "stream",
     "text": [
      "Stripping Point Clouds of ID information: 100%|██████████| 13915/13915 [00:05<00:00, 2321.68it/s]\n",
      "Up/Downscaling in progress: 100%|██████████| 13915/13915 [00:05<00:00, 2413.45it/s]\n"
     ]
    },
    {
     "name": "stdout",
     "output_type": "stream",
     "text": [
      "Resampled shape of data: (13915, 800, 4)\n",
      "Scaler min/max for x: -269.95294, 269.95294\n",
      "Scaler min/max for y: -267.79135, 267.79135\n",
      "Scaler min/max for z: -420.1508386565295, 1701.9442381352212\n",
      "Scaler min/max for charge: 101.0, 3836.0\n",
      "\n",
      "The full transformed data shape: (13915, 800, 4)\n",
      "Pipeline for Run 65\n"
     ]
    },
    {
     "name": "stderr",
     "output_type": "stream",
     "text": [
      "Stripping Point Clouds of ID information: 100%|██████████| 11714/11714 [00:05<00:00, 2238.79it/s]\n",
      "Up/Downscaling in progress: 100%|██████████| 11714/11714 [00:04<00:00, 2489.82it/s]\n"
     ]
    },
    {
     "name": "stdout",
     "output_type": "stream",
     "text": [
      "Resampled shape of data: (11714, 800, 4)\n",
      "Scaler min/max for x: -269.95294, 269.95294\n",
      "Scaler min/max for y: -267.79135, 267.79135\n",
      "Scaler min/max for z: -398.88792902191454, 1540.3278438844764\n",
      "Scaler min/max for charge: 101.0, 3830.0\n",
      "\n",
      "The full transformed data shape: (11714, 800, 4)\n",
      "Pipeline for Run 66\n"
     ]
    },
    {
     "name": "stderr",
     "output_type": "stream",
     "text": [
      "Stripping Point Clouds of ID information: 100%|██████████| 10387/10387 [00:04<00:00, 2153.05it/s]\n",
      "Up/Downscaling in progress: 100%|██████████| 10387/10387 [00:04<00:00, 2533.45it/s]\n"
     ]
    },
    {
     "name": "stdout",
     "output_type": "stream",
     "text": [
      "Resampled shape of data: (10387, 800, 4)\n",
      "Scaler min/max for x: -269.95294, 269.95294\n",
      "Scaler min/max for y: -267.79135, 267.79135\n",
      "Scaler min/max for z: -308.43105801040826, 1597.5049819257056\n",
      "Scaler min/max for charge: 101.0, 3823.0\n",
      "\n",
      "The full transformed data shape: (10387, 800, 4)\n",
      "Pipeline for Run 67\n"
     ]
    },
    {
     "name": "stderr",
     "output_type": "stream",
     "text": [
      "Stripping Point Clouds of ID information: 100%|██████████| 11667/11667 [00:05<00:00, 2252.74it/s]\n",
      "Up/Downscaling in progress: 100%|██████████| 11667/11667 [00:04<00:00, 2442.29it/s]\n"
     ]
    },
    {
     "name": "stdout",
     "output_type": "stream",
     "text": [
      "Resampled shape of data: (11667, 800, 4)\n",
      "Scaler min/max for x: -269.95294, 269.95294\n",
      "Scaler min/max for y: -267.79135, 267.79135\n",
      "Scaler min/max for z: -405.12636864362, 1493.2685117897654\n",
      "Scaler min/max for charge: 101.0, 3830.0\n",
      "\n",
      "The full transformed data shape: (11667, 800, 4)\n",
      "Pipeline for Run 68\n"
     ]
    },
    {
     "name": "stderr",
     "output_type": "stream",
     "text": [
      "Stripping Point Clouds of ID information: 100%|██████████| 3547/3547 [00:01<00:00, 2379.87it/s]\n",
      "Up/Downscaling in progress: 100%|██████████| 3547/3547 [00:01<00:00, 2391.68it/s]\n"
     ]
    },
    {
     "name": "stdout",
     "output_type": "stream",
     "text": [
      "Resampled shape of data: (3547, 800, 4)\n",
      "Scaler min/max for x: -269.95294, 269.95294\n",
      "Scaler min/max for y: -267.79135, 267.79135\n",
      "Scaler min/max for z: -378.5582636855532, 1481.666938433629\n",
      "Scaler min/max for charge: 101.0, 3818.0\n",
      "\n",
      "The full transformed data shape: (3547, 800, 4)\n",
      "Skipping run 69, as it does not exist\n",
      "Pipeline for Run 70\n"
     ]
    },
    {
     "name": "stderr",
     "output_type": "stream",
     "text": [
      "Stripping Point Clouds of ID information: 100%|██████████| 13116/13116 [00:05<00:00, 2257.12it/s]\n",
      "Up/Downscaling in progress: 100%|██████████| 13116/13116 [00:05<00:00, 2418.61it/s]\n"
     ]
    },
    {
     "name": "stdout",
     "output_type": "stream",
     "text": [
      "Resampled shape of data: (13116, 800, 4)\n",
      "Scaler min/max for x: -269.95294, 269.95294\n",
      "Scaler min/max for y: -267.79135, 267.79135\n",
      "Scaler min/max for z: -484.997061434796, 1652.5862925407866\n",
      "Scaler min/max for charge: 101.0, 3879.0\n",
      "\n",
      "The full transformed data shape: (13116, 800, 4)\n",
      "Pipeline for Run 71\n"
     ]
    },
    {
     "name": "stderr",
     "output_type": "stream",
     "text": [
      "Stripping Point Clouds of ID information: 100%|██████████| 13159/13159 [00:05<00:00, 2321.08it/s]\n",
      "Up/Downscaling in progress: 100%|██████████| 13159/13159 [00:05<00:00, 2378.21it/s]\n"
     ]
    },
    {
     "name": "stdout",
     "output_type": "stream",
     "text": [
      "Resampled shape of data: (13159, 800, 4)\n",
      "Scaler min/max for x: -269.95294, 269.95294\n",
      "Scaler min/max for y: -267.79135, 267.79135\n",
      "Scaler min/max for z: -321.86635096482917, 1672.3343501473928\n",
      "Scaler min/max for charge: 101.0, 3843.0\n",
      "\n",
      "The full transformed data shape: (13159, 800, 4)\n",
      "Pipeline for Run 72\n"
     ]
    },
    {
     "name": "stderr",
     "output_type": "stream",
     "text": [
      "Stripping Point Clouds of ID information: 100%|██████████| 12918/12918 [00:05<00:00, 2344.50it/s]\n",
      "Up/Downscaling in progress: 100%|██████████| 12918/12918 [00:05<00:00, 2369.62it/s]\n"
     ]
    },
    {
     "name": "stdout",
     "output_type": "stream",
     "text": [
      "Resampled shape of data: (12918, 800, 4)\n",
      "Scaler min/max for x: -269.95294, 269.95294\n",
      "Scaler min/max for y: -267.79135, 267.79135\n",
      "Scaler min/max for z: -448.53264819917575, 1547.4574861961546\n",
      "Scaler min/max for charge: 101.0, 3838.0\n",
      "\n",
      "The full transformed data shape: (12918, 800, 4)\n",
      "Pipeline for Run 73\n"
     ]
    },
    {
     "name": "stderr",
     "output_type": "stream",
     "text": [
      "Stripping Point Clouds of ID information: 100%|██████████| 15154/15154 [00:06<00:00, 2284.46it/s]\n",
      "Up/Downscaling in progress: 100%|██████████| 15154/15154 [00:06<00:00, 2372.37it/s]\n"
     ]
    },
    {
     "name": "stdout",
     "output_type": "stream",
     "text": [
      "Resampled shape of data: (15154, 800, 4)\n",
      "Scaler min/max for x: -269.95294, 269.95294\n",
      "Scaler min/max for y: -267.79135, 267.79135\n",
      "Scaler min/max for z: -488.32129813131905, 1628.8943585378477\n",
      "Scaler min/max for charge: 101.0, 3833.0\n",
      "\n",
      "The full transformed data shape: (15154, 800, 4)\n",
      "Pipeline for Run 74\n"
     ]
    },
    {
     "name": "stderr",
     "output_type": "stream",
     "text": [
      "Stripping Point Clouds of ID information: 100%|██████████| 4796/4796 [00:02<00:00, 2296.77it/s]\n",
      "Up/Downscaling in progress: 100%|██████████| 4796/4796 [00:01<00:00, 2440.21it/s]\n"
     ]
    },
    {
     "name": "stdout",
     "output_type": "stream",
     "text": [
      "Resampled shape of data: (4796, 800, 4)\n",
      "Scaler min/max for x: -269.95294, 269.95294\n",
      "Scaler min/max for y: -267.79135, 267.79135\n",
      "Scaler min/max for z: -293.0871217958971, 1522.505290623984\n",
      "Scaler min/max for charge: 101.0, 3853.0\n",
      "\n",
      "The full transformed data shape: (4796, 800, 4)\n",
      "Skipping run 75, as it does not exist\n",
      "Skipping run 76, as it does not exist\n",
      "Pipeline for Run 77\n"
     ]
    },
    {
     "name": "stderr",
     "output_type": "stream",
     "text": [
      "Stripping Point Clouds of ID information: 100%|██████████| 9352/9352 [00:01<00:00, 4966.16it/s]\n",
      "Up/Downscaling in progress: 100%|██████████| 9337/9337 [00:04<00:00, 1891.55it/s]\n"
     ]
    },
    {
     "name": "stdout",
     "output_type": "stream",
     "text": [
      "Resampled shape of data: (9337, 800, 4)\n",
      "Scaler min/max for x: -269.95294, 269.95294\n",
      "Scaler min/max for y: -267.79135, 267.79135\n",
      "Scaler min/max for z: -367.4963025560909, 1418.0686857314424\n",
      "Scaler min/max for charge: 101.0, 3852.0\n",
      "\n",
      "The full transformed data shape: (9337, 800, 4)\n",
      "Skipping run 78, as it does not exist\n",
      "Skipping run 79, as it does not exist\n",
      "Skipping run 80, as it does not exist\n",
      "Skipping run 81, as it does not exist\n",
      "Skipping run 82, as it does not exist\n",
      "Pipeline for Run 83\n"
     ]
    },
    {
     "name": "stderr",
     "output_type": "stream",
     "text": [
      "Stripping Point Clouds of ID information: 100%|██████████| 8987/8987 [00:01<00:00, 5662.28it/s]\n",
      "Up/Downscaling in progress: 100%|██████████| 8987/8987 [00:05<00:00, 1759.32it/s]\n"
     ]
    },
    {
     "name": "stdout",
     "output_type": "stream",
     "text": [
      "Resampled shape of data: (8987, 800, 4)\n",
      "Scaler min/max for x: -269.95294, 269.95294\n",
      "Scaler min/max for y: -267.79135, 267.79135\n",
      "Scaler min/max for z: -344.4233549863488, 1421.0181419478213\n",
      "Scaler min/max for charge: 101.0, 3799.0\n",
      "\n",
      "The full transformed data shape: (8987, 800, 4)\n",
      "Pipeline for Run 84\n"
     ]
    },
    {
     "name": "stderr",
     "output_type": "stream",
     "text": [
      "Stripping Point Clouds of ID information: 100%|██████████| 9209/9209 [00:01<00:00, 5636.77it/s]\n",
      "Up/Downscaling in progress: 100%|██████████| 9209/9209 [00:04<00:00, 1892.62it/s]\n"
     ]
    },
    {
     "name": "stdout",
     "output_type": "stream",
     "text": [
      "Resampled shape of data: (9209, 800, 4)\n",
      "Scaler min/max for x: -269.95294, 269.95294\n",
      "Scaler min/max for y: -267.79135, 267.79135\n",
      "Scaler min/max for z: -323.78242832131104, 1498.4579633383541\n",
      "Scaler min/max for charge: 101.0, 3832.0\n",
      "\n",
      "The full transformed data shape: (9209, 800, 4)\n",
      "Pipeline for Run 85\n"
     ]
    },
    {
     "name": "stderr",
     "output_type": "stream",
     "text": [
      "Stripping Point Clouds of ID information: 100%|██████████| 9094/9094 [00:01<00:00, 5433.27it/s]\n",
      "Up/Downscaling in progress: 100%|██████████| 9094/9094 [00:04<00:00, 1874.49it/s]\n"
     ]
    },
    {
     "name": "stdout",
     "output_type": "stream",
     "text": [
      "Resampled shape of data: (9094, 800, 4)\n",
      "Scaler min/max for x: -269.95294, 269.95294\n",
      "Scaler min/max for y: -267.79135, 267.79135\n",
      "Scaler min/max for z: -273.8201189430889, 1519.473006955598\n",
      "Scaler min/max for charge: 101.0, 3814.0\n",
      "\n",
      "The full transformed data shape: (9094, 800, 4)\n",
      "Pipeline for Run 86\n"
     ]
    },
    {
     "name": "stderr",
     "output_type": "stream",
     "text": [
      "Stripping Point Clouds of ID information: 100%|██████████| 8188/8188 [00:01<00:00, 5898.12it/s]\n",
      "Up/Downscaling in progress: 100%|██████████| 8188/8188 [00:04<00:00, 1879.88it/s]\n"
     ]
    },
    {
     "name": "stdout",
     "output_type": "stream",
     "text": [
      "Resampled shape of data: (8188, 800, 4)\n",
      "Scaler min/max for x: -269.95294, 269.95294\n",
      "Scaler min/max for y: -267.79135, 267.79135\n",
      "Scaler min/max for z: -259.5724899465333, 1555.7038321507664\n",
      "Scaler min/max for charge: 101.0, 3832.0\n",
      "\n",
      "The full transformed data shape: (8188, 800, 4)\n",
      "Pipeline for Run 87\n"
     ]
    },
    {
     "name": "stderr",
     "output_type": "stream",
     "text": [
      "Stripping Point Clouds of ID information: 100%|██████████| 8804/8804 [00:01<00:00, 5839.04it/s]\n",
      "Up/Downscaling in progress: 100%|██████████| 8804/8804 [00:04<00:00, 1880.81it/s]\n"
     ]
    },
    {
     "name": "stdout",
     "output_type": "stream",
     "text": [
      "Resampled shape of data: (8804, 800, 4)\n",
      "Scaler min/max for x: -269.95294, 269.95294\n",
      "Scaler min/max for y: -267.79135, 267.79135\n",
      "Scaler min/max for z: -193.37983024655506, 1428.9556621719346\n",
      "Scaler min/max for charge: 101.0, 3842.0\n",
      "\n",
      "The full transformed data shape: (8804, 800, 4)\n",
      "Pipeline for Run 88\n"
     ]
    },
    {
     "name": "stderr",
     "output_type": "stream",
     "text": [
      "Stripping Point Clouds of ID information: 100%|██████████| 9576/9576 [00:01<00:00, 5146.19it/s]\n",
      "Up/Downscaling in progress: 100%|██████████| 9576/9576 [00:04<00:00, 1915.84it/s]\n"
     ]
    },
    {
     "name": "stdout",
     "output_type": "stream",
     "text": [
      "Resampled shape of data: (9576, 800, 4)\n",
      "Scaler min/max for x: -269.95294, 269.95294\n",
      "Scaler min/max for y: -267.79135, 267.79135\n",
      "Scaler min/max for z: -344.52074760460545, 1449.8873708890542\n",
      "Scaler min/max for charge: 101.0, 3857.0\n",
      "\n",
      "The full transformed data shape: (9576, 800, 4)\n",
      "Pipeline for Run 89\n"
     ]
    },
    {
     "name": "stderr",
     "output_type": "stream",
     "text": [
      "Stripping Point Clouds of ID information: 100%|██████████| 9926/9926 [00:02<00:00, 4962.85it/s]\n",
      "Up/Downscaling in progress: 100%|██████████| 9926/9926 [00:05<00:00, 1915.81it/s]\n"
     ]
    },
    {
     "name": "stdout",
     "output_type": "stream",
     "text": [
      "Resampled shape of data: (9926, 800, 4)\n",
      "Scaler min/max for x: -269.95294, 269.95294\n",
      "Scaler min/max for y: -267.79135, 267.79135\n",
      "Scaler min/max for z: -229.90686113400042, 1510.0879998451717\n",
      "Scaler min/max for charge: 101.0, 3832.0\n",
      "\n",
      "The full transformed data shape: (9926, 800, 4)\n",
      "Pipeline for Run 90\n"
     ]
    },
    {
     "name": "stderr",
     "output_type": "stream",
     "text": [
      "Stripping Point Clouds of ID information: 100%|██████████| 12596/12596 [00:02<00:00, 4429.78it/s]\n",
      "Up/Downscaling in progress: 100%|██████████| 12596/12596 [00:06<00:00, 1935.41it/s]\n"
     ]
    },
    {
     "name": "stdout",
     "output_type": "stream",
     "text": [
      "Resampled shape of data: (12596, 800, 4)\n",
      "Scaler min/max for x: -269.95294, 269.95294\n",
      "Scaler min/max for y: -267.79135, 267.79135\n",
      "Scaler min/max for z: -233.38786138138846, 1411.674911263927\n",
      "Scaler min/max for charge: 101.0, 3858.0\n",
      "\n",
      "The full transformed data shape: (12596, 800, 4)\n",
      "Pipeline for Run 91\n"
     ]
    },
    {
     "name": "stderr",
     "output_type": "stream",
     "text": [
      "Stripping Point Clouds of ID information: 100%|██████████| 11217/11217 [00:02<00:00, 4111.14it/s]\n",
      "Up/Downscaling in progress: 100%|██████████| 11217/11217 [00:05<00:00, 1970.57it/s]\n"
     ]
    },
    {
     "name": "stdout",
     "output_type": "stream",
     "text": [
      "Resampled shape of data: (11217, 800, 4)\n",
      "Scaler min/max for x: -269.95294, 269.95294\n",
      "Scaler min/max for y: -267.79135, 267.79135\n",
      "Scaler min/max for z: -264.0368820723952, 1415.8907250979203\n",
      "Scaler min/max for charge: 101.0, 3855.0\n",
      "\n",
      "The full transformed data shape: (11217, 800, 4)\n",
      "Pipeline for Run 92\n"
     ]
    },
    {
     "name": "stderr",
     "output_type": "stream",
     "text": [
      "Stripping Point Clouds of ID information: 100%|██████████| 2567/2567 [00:00<00:00, 3266.89it/s]\n",
      "Up/Downscaling in progress: 100%|██████████| 2567/2567 [00:01<00:00, 2021.87it/s]\n"
     ]
    },
    {
     "name": "stdout",
     "output_type": "stream",
     "text": [
      "Resampled shape of data: (2567, 800, 4)\n",
      "Scaler min/max for x: -269.95294, 269.95294\n",
      "Scaler min/max for y: -267.79135, 267.79135\n",
      "Scaler min/max for z: -282.11137486196856, 1439.2141137658828\n",
      "Scaler min/max for charge: 101.0, 3824.0\n",
      "\n",
      "The full transformed data shape: (2567, 800, 4)\n",
      "Skipping run 93, as it does not exist\n",
      "Pipeline for Run 94\n"
     ]
    },
    {
     "name": "stderr",
     "output_type": "stream",
     "text": [
      "Stripping Point Clouds of ID information: 100%|██████████| 9147/9147 [00:02<00:00, 4024.22it/s]\n",
      "Up/Downscaling in progress: 100%|██████████| 9147/9147 [00:04<00:00, 1986.63it/s]\n"
     ]
    },
    {
     "name": "stdout",
     "output_type": "stream",
     "text": [
      "Resampled shape of data: (9147, 800, 4)\n",
      "Scaler min/max for x: -269.95294, 269.95294\n",
      "Scaler min/max for y: -267.79135, 267.79135\n",
      "Scaler min/max for z: -252.47877223639443, 1448.2406968584992\n",
      "Scaler min/max for charge: 101.0, 3846.0\n",
      "\n",
      "The full transformed data shape: (9147, 800, 4)\n",
      "Skipping run 95, as it does not exist\n",
      "Pipeline for Run 96\n"
     ]
    },
    {
     "name": "stderr",
     "output_type": "stream",
     "text": [
      "Stripping Point Clouds of ID information: 100%|██████████| 11578/11578 [00:03<00:00, 3402.84it/s]\n",
      "Up/Downscaling in progress: 100%|██████████| 11578/11578 [00:05<00:00, 1967.60it/s]\n"
     ]
    },
    {
     "name": "stdout",
     "output_type": "stream",
     "text": [
      "Resampled shape of data: (11578, 800, 4)\n",
      "Scaler min/max for x: -269.95294, 269.95294\n",
      "Scaler min/max for y: -267.79135, 267.79135\n",
      "Scaler min/max for z: -247.19419744425676, 1518.0022565068266\n",
      "Scaler min/max for charge: 101.0, 3835.0\n",
      "\n",
      "The full transformed data shape: (11578, 800, 4)\n",
      "Pipeline for Run 97\n"
     ]
    },
    {
     "name": "stderr",
     "output_type": "stream",
     "text": [
      "Stripping Point Clouds of ID information: 100%|██████████| 5801/5801 [00:01<00:00, 3526.76it/s]\n",
      "Up/Downscaling in progress: 100%|██████████| 5800/5800 [00:02<00:00, 2017.76it/s]\n"
     ]
    },
    {
     "name": "stdout",
     "output_type": "stream",
     "text": [
      "Resampled shape of data: (5800, 800, 4)\n",
      "Scaler min/max for x: -269.95294, 269.95294\n",
      "Scaler min/max for y: -267.79135, 267.79135\n",
      "Scaler min/max for z: -256.90542149691385, 1563.7339252203708\n",
      "Scaler min/max for charge: 101.0, 3834.0\n",
      "\n",
      "The full transformed data shape: (5800, 800, 4)\n",
      "Pipeline for Run 98\n"
     ]
    },
    {
     "name": "stderr",
     "output_type": "stream",
     "text": [
      "Stripping Point Clouds of ID information: 100%|██████████| 11136/11136 [00:02<00:00, 3931.31it/s]\n",
      "Up/Downscaling in progress: 100%|██████████| 11135/11135 [00:05<00:00, 1951.47it/s]\n"
     ]
    },
    {
     "name": "stdout",
     "output_type": "stream",
     "text": [
      "Resampled shape of data: (11135, 800, 4)\n",
      "Scaler min/max for x: -269.95294, 269.95294\n",
      "Scaler min/max for y: -267.79135, 267.79135\n",
      "Scaler min/max for z: -550.9901972071872, 1542.1127510615484\n",
      "Scaler min/max for charge: 101.0, 3840.0\n",
      "\n",
      "The full transformed data shape: (11135, 800, 4)\n",
      "Pipeline for Run 99\n"
     ]
    },
    {
     "name": "stderr",
     "output_type": "stream",
     "text": [
      "Stripping Point Clouds of ID information: 100%|██████████| 4041/4041 [00:01<00:00, 3773.68it/s]\n",
      "Up/Downscaling in progress: 100%|██████████| 4041/4041 [00:02<00:00, 1967.78it/s]\n"
     ]
    },
    {
     "name": "stdout",
     "output_type": "stream",
     "text": [
      "Resampled shape of data: (4041, 800, 4)\n",
      "Scaler min/max for x: -269.95294, 269.95294\n",
      "Scaler min/max for y: -267.79135, 267.79135\n",
      "Scaler min/max for z: -248.08662061134473, 1433.181537581525\n",
      "Scaler min/max for charge: 101.0, 3837.0\n",
      "\n",
      "The full transformed data shape: (4041, 800, 4)\n",
      "Pipeline for Run 100\n"
     ]
    },
    {
     "name": "stderr",
     "output_type": "stream",
     "text": [
      "Stripping Point Clouds of ID information: 100%|██████████| 1361/1361 [00:00<00:00, 3502.71it/s]\n",
      "Up/Downscaling in progress: 100%|██████████| 1361/1361 [00:00<00:00, 2002.84it/s]\n"
     ]
    },
    {
     "name": "stdout",
     "output_type": "stream",
     "text": [
      "Resampled shape of data: (1361, 800, 4)\n",
      "Scaler min/max for x: -269.95294, 269.95294\n",
      "Scaler min/max for y: -267.79135, 267.79135\n",
      "Scaler min/max for z: -248.2269682920197, 1348.7051555431983\n",
      "Scaler min/max for charge: 101.0, 3809.0\n",
      "\n",
      "The full transformed data shape: (1361, 800, 4)\n",
      "Pipeline for Run 101\n"
     ]
    },
    {
     "name": "stderr",
     "output_type": "stream",
     "text": [
      "Stripping Point Clouds of ID information: 100%|██████████| 9945/9945 [00:02<00:00, 3664.29it/s]\n",
      "Up/Downscaling in progress: 100%|██████████| 9944/9944 [00:05<00:00, 1976.20it/s]\n"
     ]
    },
    {
     "name": "stdout",
     "output_type": "stream",
     "text": [
      "Resampled shape of data: (9944, 800, 4)\n",
      "Scaler min/max for x: -269.95294, 269.95294\n",
      "Scaler min/max for y: -267.79135, 267.79135\n",
      "Scaler min/max for z: -334.70602805269374, 1506.710110622369\n",
      "Scaler min/max for charge: 101.0, 3846.0\n",
      "\n",
      "The full transformed data shape: (9944, 800, 4)\n",
      "Pipeline for Run 102\n"
     ]
    },
    {
     "name": "stderr",
     "output_type": "stream",
     "text": [
      "Stripping Point Clouds of ID information: 100%|██████████| 11882/11882 [00:03<00:00, 3440.81it/s]\n",
      "Up/Downscaling in progress: 100%|██████████| 11882/11882 [00:06<00:00, 1876.62it/s]\n"
     ]
    },
    {
     "name": "stdout",
     "output_type": "stream",
     "text": [
      "Resampled shape of data: (11882, 800, 4)\n",
      "Scaler min/max for x: -269.95294, 269.95294\n",
      "Scaler min/max for y: -267.79135, 267.79135\n",
      "Scaler min/max for z: -293.7793245148127, 1562.5418559665054\n",
      "Scaler min/max for charge: 101.0, 3833.0\n",
      "\n",
      "The full transformed data shape: (11882, 800, 4)\n",
      "Pipeline for Run 103\n"
     ]
    },
    {
     "name": "stderr",
     "output_type": "stream",
     "text": [
      "Stripping Point Clouds of ID information: 100%|██████████| 12431/12431 [00:03<00:00, 3295.07it/s]\n",
      "Up/Downscaling in progress: 100%|██████████| 12431/12431 [00:06<00:00, 1931.43it/s]\n"
     ]
    },
    {
     "name": "stdout",
     "output_type": "stream",
     "text": [
      "Resampled shape of data: (12431, 800, 4)\n",
      "Scaler min/max for x: -269.95294, 269.95294\n",
      "Scaler min/max for y: -267.79135, 267.79135\n",
      "Scaler min/max for z: -270.0241972178232, 1469.2299698310408\n",
      "Scaler min/max for charge: 101.0, 3847.0\n",
      "\n",
      "The full transformed data shape: (12431, 800, 4)\n",
      "Pipeline for Run 104\n"
     ]
    },
    {
     "name": "stderr",
     "output_type": "stream",
     "text": [
      "Stripping Point Clouds of ID information: 100%|██████████| 10608/10608 [00:03<00:00, 3444.21it/s]\n",
      "Up/Downscaling in progress: 100%|██████████| 10607/10607 [00:05<00:00, 1897.33it/s]\n"
     ]
    },
    {
     "name": "stdout",
     "output_type": "stream",
     "text": [
      "Resampled shape of data: (10607, 800, 4)\n",
      "Scaler min/max for x: -269.95294, 269.95294\n",
      "Scaler min/max for y: -267.79135, 267.79135\n",
      "Scaler min/max for z: -376.6152566142123, 1506.4795603977402\n",
      "Scaler min/max for charge: 101.0, 3868.0\n",
      "\n",
      "The full transformed data shape: (10607, 800, 4)\n",
      "Pipeline for Run 105\n"
     ]
    },
    {
     "name": "stderr",
     "output_type": "stream",
     "text": [
      "Stripping Point Clouds of ID information: 100%|██████████| 1164/1164 [00:00<00:00, 5096.16it/s]\n",
      "Up/Downscaling in progress: 100%|██████████| 1164/1164 [00:00<00:00, 1874.14it/s]\n"
     ]
    },
    {
     "name": "stdout",
     "output_type": "stream",
     "text": [
      "Resampled shape of data: (1164, 800, 4)\n",
      "Scaler min/max for x: -269.95294, 269.95294\n",
      "Scaler min/max for y: -267.79135, 267.79135\n",
      "Scaler min/max for z: -278.0938019213351, 1378.283096204342\n",
      "Scaler min/max for charge: 101.0, 3799.0\n",
      "\n",
      "The full transformed data shape: (1164, 800, 4)\n",
      "Pipeline for Run 106\n"
     ]
    },
    {
     "name": "stderr",
     "output_type": "stream",
     "text": [
      "Stripping Point Clouds of ID information: 100%|██████████| 9528/9528 [00:01<00:00, 4831.43it/s]\n",
      "Up/Downscaling in progress: 100%|██████████| 9528/9528 [00:05<00:00, 1851.08it/s]\n"
     ]
    },
    {
     "name": "stdout",
     "output_type": "stream",
     "text": [
      "Resampled shape of data: (9528, 800, 4)\n",
      "Scaler min/max for x: -269.95294, 269.95294\n",
      "Scaler min/max for y: -267.79135, 267.79135\n",
      "Scaler min/max for z: -233.8943890558588, 1404.5647965194412\n",
      "Scaler min/max for charge: 101.0, 3841.0\n",
      "\n",
      "The full transformed data shape: (9528, 800, 4)\n",
      "Skipping run 107, as it does not exist\n",
      "Pipeline for Run 108\n"
     ]
    },
    {
     "name": "stderr",
     "output_type": "stream",
     "text": [
      "Stripping Point Clouds of ID information: 100%|██████████| 8555/8555 [00:01<00:00, 4638.04it/s]\n",
      "Up/Downscaling in progress: 100%|██████████| 8555/8555 [00:04<00:00, 1848.20it/s]\n"
     ]
    },
    {
     "name": "stdout",
     "output_type": "stream",
     "text": [
      "Resampled shape of data: (8555, 800, 4)\n",
      "Scaler min/max for x: -269.95294, 269.95294\n",
      "Scaler min/max for y: -267.79135, 267.79135\n",
      "Scaler min/max for z: -210.66040298683012, 1463.5389626508766\n",
      "Scaler min/max for charge: 101.0, 3825.0\n",
      "\n",
      "The full transformed data shape: (8555, 800, 4)\n",
      "Pipeline for Run 109\n"
     ]
    },
    {
     "name": "stderr",
     "output_type": "stream",
     "text": [
      "Stripping Point Clouds of ID information: 100%|██████████| 1559/1559 [00:00<00:00, 5374.84it/s]\n",
      "Up/Downscaling in progress: 100%|██████████| 1559/1559 [00:00<00:00, 1834.70it/s]\n"
     ]
    },
    {
     "name": "stdout",
     "output_type": "stream",
     "text": [
      "Resampled shape of data: (1559, 800, 4)\n",
      "Scaler min/max for x: -269.95294, 269.95294\n",
      "Scaler min/max for y: -267.79135, 267.79135\n",
      "Scaler min/max for z: -281.18868561084116, 1423.3726051763738\n",
      "Scaler min/max for charge: 101.0, 3852.0\n",
      "\n",
      "The full transformed data shape: (1559, 800, 4)\n",
      "Pipeline for Run 110\n"
     ]
    },
    {
     "name": "stderr",
     "output_type": "stream",
     "text": [
      "Stripping Point Clouds of ID information: 100%|██████████| 10558/10558 [00:02<00:00, 4216.97it/s]\n",
      "Up/Downscaling in progress: 100%|██████████| 10558/10558 [00:05<00:00, 1896.59it/s]\n"
     ]
    },
    {
     "name": "stdout",
     "output_type": "stream",
     "text": [
      "Resampled shape of data: (10558, 800, 4)\n",
      "Scaler min/max for x: -269.95294, 269.95294\n",
      "Scaler min/max for y: -267.79135, 267.79135\n",
      "Scaler min/max for z: -350.00665354041917, 1523.4829406195493\n",
      "Scaler min/max for charge: 101.0, 3836.0\n",
      "\n",
      "The full transformed data shape: (10558, 800, 4)\n",
      "Pipeline for Run 111\n"
     ]
    },
    {
     "name": "stderr",
     "output_type": "stream",
     "text": [
      "Stripping Point Clouds of ID information: 100%|██████████| 10008/10008 [00:02<00:00, 4166.84it/s]\n",
      "Up/Downscaling in progress: 100%|██████████| 10008/10008 [00:05<00:00, 1828.76it/s]\n"
     ]
    },
    {
     "name": "stdout",
     "output_type": "stream",
     "text": [
      "Resampled shape of data: (10008, 800, 4)\n",
      "Scaler min/max for x: -269.95294, 269.95294\n",
      "Scaler min/max for y: -267.79135, 267.79135\n",
      "Scaler min/max for z: -212.9064832844368, 1521.5547899660942\n",
      "Scaler min/max for charge: 101.0, 3856.0\n",
      "\n",
      "The full transformed data shape: (10008, 800, 4)\n",
      "Pipeline for Run 112\n"
     ]
    },
    {
     "name": "stderr",
     "output_type": "stream",
     "text": [
      "Stripping Point Clouds of ID information: 100%|██████████| 10122/10122 [00:02<00:00, 4271.17it/s]\n",
      "Up/Downscaling in progress: 100%|██████████| 10122/10122 [00:05<00:00, 1943.11it/s]\n"
     ]
    },
    {
     "name": "stdout",
     "output_type": "stream",
     "text": [
      "Resampled shape of data: (10122, 800, 4)\n",
      "Scaler min/max for x: -269.95294, 269.95294\n",
      "Scaler min/max for y: -267.79135, 267.79135\n",
      "Scaler min/max for z: -299.70172533358016, 1478.8300213067469\n",
      "Scaler min/max for charge: 101.0, 3854.0\n",
      "\n",
      "The full transformed data shape: (10122, 800, 4)\n",
      "Pipeline for Run 113\n"
     ]
    },
    {
     "name": "stderr",
     "output_type": "stream",
     "text": [
      "Stripping Point Clouds of ID information: 100%|██████████| 10222/10222 [00:02<00:00, 4249.09it/s]\n",
      "Up/Downscaling in progress: 100%|██████████| 10222/10222 [00:05<00:00, 1934.58it/s]\n"
     ]
    },
    {
     "name": "stdout",
     "output_type": "stream",
     "text": [
      "Resampled shape of data: (10222, 800, 4)\n",
      "Scaler min/max for x: -269.95294, 269.95294\n",
      "Scaler min/max for y: -267.79135, 267.79135\n",
      "Scaler min/max for z: -302.54053616293794, 1636.7047355488558\n",
      "Scaler min/max for charge: 101.0, 3827.0\n",
      "\n",
      "The full transformed data shape: (10222, 800, 4)\n",
      "Pipeline for Run 114\n"
     ]
    },
    {
     "name": "stderr",
     "output_type": "stream",
     "text": [
      "Stripping Point Clouds of ID information: 100%|██████████| 4818/4818 [00:01<00:00, 4355.43it/s]\n",
      "Up/Downscaling in progress: 100%|██████████| 4818/4818 [00:02<00:00, 1947.64it/s]\n"
     ]
    },
    {
     "name": "stdout",
     "output_type": "stream",
     "text": [
      "Resampled shape of data: (4818, 800, 4)\n",
      "Scaler min/max for x: -269.95294, 269.95294\n",
      "Scaler min/max for y: -267.79135, 267.79135\n",
      "Scaler min/max for z: -383.28262553010364, 1426.8508767762396\n",
      "Scaler min/max for charge: 101.0, 3848.0\n",
      "\n",
      "The full transformed data shape: (4818, 800, 4)\n",
      "Skipping run 115, as it does not exist\n",
      "Pipeline for Run 116\n"
     ]
    },
    {
     "name": "stderr",
     "output_type": "stream",
     "text": [
      "Stripping Point Clouds of ID information: 100%|██████████| 9809/9809 [00:01<00:00, 5527.61it/s]\n",
      "Up/Downscaling in progress: 100%|██████████| 9809/9809 [00:05<00:00, 1845.56it/s]\n"
     ]
    },
    {
     "name": "stdout",
     "output_type": "stream",
     "text": [
      "Resampled shape of data: (9809, 800, 4)\n",
      "Scaler min/max for x: -269.95294, 269.95294\n",
      "Scaler min/max for y: -267.79135, 267.79135\n",
      "Scaler min/max for z: -203.00418348285703, 1709.335250636154\n",
      "Scaler min/max for charge: 101.0, 3812.0\n",
      "\n",
      "The full transformed data shape: (9809, 800, 4)\n",
      "Pipeline for Run 117\n"
     ]
    },
    {
     "name": "stderr",
     "output_type": "stream",
     "text": [
      "Stripping Point Clouds of ID information: 100%|██████████| 10526/10526 [00:02<00:00, 4828.66it/s]\n",
      "Up/Downscaling in progress: 100%|██████████| 10525/10525 [00:05<00:00, 1901.36it/s]\n"
     ]
    },
    {
     "name": "stdout",
     "output_type": "stream",
     "text": [
      "Resampled shape of data: (10525, 800, 4)\n",
      "Scaler min/max for x: -269.95294, 269.95294\n",
      "Scaler min/max for y: -267.79135, 267.79135\n",
      "Scaler min/max for z: -269.5571930085963, 1502.461381617093\n",
      "Scaler min/max for charge: 101.0, 3839.0\n",
      "\n",
      "The full transformed data shape: (10525, 800, 4)\n",
      "Pipeline for Run 118\n"
     ]
    },
    {
     "name": "stderr",
     "output_type": "stream",
     "text": [
      "Stripping Point Clouds of ID information: 100%|██████████| 10037/10037 [00:02<00:00, 4460.80it/s]\n",
      "Up/Downscaling in progress: 100%|██████████| 10037/10037 [00:05<00:00, 1941.50it/s]\n"
     ]
    },
    {
     "name": "stdout",
     "output_type": "stream",
     "text": [
      "Resampled shape of data: (10037, 800, 4)\n",
      "Scaler min/max for x: -269.95294, 269.95294\n",
      "Scaler min/max for y: -267.79135, 267.79135\n",
      "Scaler min/max for z: -226.82519824515225, 1410.9296875430603\n",
      "Scaler min/max for charge: 101.0, 3841.0\n",
      "\n",
      "The full transformed data shape: (10037, 800, 4)\n",
      "Pipeline for Run 119\n"
     ]
    },
    {
     "name": "stderr",
     "output_type": "stream",
     "text": [
      "Stripping Point Clouds of ID information: 100%|██████████| 1786/1786 [00:00<00:00, 4783.01it/s]\n",
      "Up/Downscaling in progress: 100%|██████████| 1786/1786 [00:00<00:00, 1904.91it/s]\n"
     ]
    },
    {
     "name": "stdout",
     "output_type": "stream",
     "text": [
      "Resampled shape of data: (1786, 800, 4)\n",
      "Scaler min/max for x: -265.04471, 269.95294\n",
      "Scaler min/max for y: -267.79135, 267.79135\n",
      "Scaler min/max for z: -171.45779323119598, 1394.8353666285673\n",
      "Scaler min/max for charge: 101.0, 3837.0\n",
      "\n",
      "The full transformed data shape: (1786, 800, 4)\n",
      "Pipeline for Run 120\n"
     ]
    },
    {
     "name": "stderr",
     "output_type": "stream",
     "text": [
      "Stripping Point Clouds of ID information: 100%|██████████| 9985/9985 [00:02<00:00, 4691.15it/s]\n",
      "Up/Downscaling in progress: 100%|██████████| 9985/9985 [00:05<00:00, 1906.85it/s]\n"
     ]
    },
    {
     "name": "stdout",
     "output_type": "stream",
     "text": [
      "Resampled shape of data: (9985, 800, 4)\n",
      "Scaler min/max for x: -269.95294, 269.95294\n",
      "Scaler min/max for y: -267.79135, 267.79135\n",
      "Scaler min/max for z: -321.7564413907402, 1376.840003864571\n",
      "Scaler min/max for charge: 101.0, 3834.0\n",
      "\n",
      "The full transformed data shape: (9985, 800, 4)\n",
      "Pipeline for Run 121\n"
     ]
    },
    {
     "name": "stderr",
     "output_type": "stream",
     "text": [
      "Stripping Point Clouds of ID information: 100%|██████████| 5666/5666 [00:01<00:00, 4473.82it/s]\n",
      "Up/Downscaling in progress: 100%|██████████| 5666/5666 [00:02<00:00, 1930.09it/s]\n"
     ]
    },
    {
     "name": "stdout",
     "output_type": "stream",
     "text": [
      "Resampled shape of data: (5666, 800, 4)\n",
      "Scaler min/max for x: -269.95294, 269.95294\n",
      "Scaler min/max for y: -267.79135, 267.79135\n",
      "Scaler min/max for z: -252.93102495491772, 1399.0482542550449\n",
      "Scaler min/max for charge: 101.0, 3857.0\n",
      "\n",
      "The full transformed data shape: (5666, 800, 4)\n",
      "Pipeline for Run 122\n"
     ]
    },
    {
     "name": "stderr",
     "output_type": "stream",
     "text": [
      "Stripping Point Clouds of ID information: 100%|██████████| 10317/10317 [00:02<00:00, 4066.90it/s]\n",
      "Up/Downscaling in progress: 100%|██████████| 10317/10317 [00:05<00:00, 1963.97it/s]\n"
     ]
    },
    {
     "name": "stdout",
     "output_type": "stream",
     "text": [
      "Resampled shape of data: (10317, 800, 4)\n",
      "Scaler min/max for x: -269.95294, 269.95294\n",
      "Scaler min/max for y: -267.79135, 267.79135\n",
      "Scaler min/max for z: -229.1006256120975, 1428.0533049002045\n",
      "Scaler min/max for charge: 101.0, 3846.0\n",
      "\n",
      "The full transformed data shape: (10317, 800, 4)\n",
      "Pipeline for Run 123\n"
     ]
    },
    {
     "name": "stderr",
     "output_type": "stream",
     "text": [
      "Stripping Point Clouds of ID information: 100%|██████████| 1247/1247 [00:00<00:00, 4202.20it/s]\n",
      "Up/Downscaling in progress: 100%|██████████| 1247/1247 [00:00<00:00, 1923.54it/s]\n"
     ]
    },
    {
     "name": "stdout",
     "output_type": "stream",
     "text": [
      "Resampled shape of data: (1247, 800, 4)\n",
      "Scaler min/max for x: -269.95294, 269.95294\n",
      "Scaler min/max for y: -267.79135, 267.79135\n",
      "Scaler min/max for z: -201.51829198777565, 1473.8782613534665\n",
      "Scaler min/max for charge: 101.0, 3836.0\n",
      "\n",
      "The full transformed data shape: (1247, 800, 4)\n",
      "Pipeline for Run 124\n"
     ]
    },
    {
     "name": "stderr",
     "output_type": "stream",
     "text": [
      "Stripping Point Clouds of ID information: 100%|██████████| 8920/8920 [00:02<00:00, 4251.44it/s]\n",
      "Up/Downscaling in progress: 100%|██████████| 8919/8919 [00:04<00:00, 1933.05it/s]\n"
     ]
    },
    {
     "name": "stdout",
     "output_type": "stream",
     "text": [
      "Resampled shape of data: (8919, 800, 4)\n",
      "Scaler min/max for x: -269.95294, 269.95294\n",
      "Scaler min/max for y: -267.79135, 267.79135\n",
      "Scaler min/max for z: -273.73376500592065, 1555.0223655624336\n",
      "Scaler min/max for charge: 101.0, 3836.0\n",
      "\n",
      "The full transformed data shape: (8919, 800, 4)\n",
      "Pipeline for Run 125\n"
     ]
    },
    {
     "name": "stderr",
     "output_type": "stream",
     "text": [
      "Stripping Point Clouds of ID information: 100%|██████████| 12003/12003 [00:02<00:00, 4065.76it/s]\n",
      "Up/Downscaling in progress: 100%|██████████| 12003/12003 [00:06<00:00, 1918.64it/s]\n"
     ]
    },
    {
     "name": "stdout",
     "output_type": "stream",
     "text": [
      "Resampled shape of data: (12003, 800, 4)\n",
      "Scaler min/max for x: -269.95294, 269.95294\n",
      "Scaler min/max for y: -267.79135, 267.79135\n",
      "Scaler min/max for z: -337.0065277011466, 1445.1267689401666\n",
      "Scaler min/max for charge: 101.0, 3855.0\n",
      "\n",
      "The full transformed data shape: (12003, 800, 4)\n",
      "Pipeline for Run 126\n"
     ]
    },
    {
     "name": "stderr",
     "output_type": "stream",
     "text": [
      "Stripping Point Clouds of ID information: 100%|██████████| 4825/4825 [00:01<00:00, 4276.14it/s]\n",
      "Up/Downscaling in progress: 100%|██████████| 4825/4825 [00:02<00:00, 1914.58it/s]\n"
     ]
    },
    {
     "name": "stdout",
     "output_type": "stream",
     "text": [
      "Resampled shape of data: (4825, 800, 4)\n",
      "Scaler min/max for x: -269.95294, 269.95294\n",
      "Scaler min/max for y: -267.79135, 267.79135\n",
      "Scaler min/max for z: -380.08186041626027, 1350.5666615442706\n",
      "Scaler min/max for charge: 101.0, 3839.0\n",
      "\n",
      "The full transformed data shape: (4825, 800, 4)\n",
      "Pipeline for Run 127\n"
     ]
    },
    {
     "name": "stderr",
     "output_type": "stream",
     "text": [
      "Stripping Point Clouds of ID information: 100%|██████████| 11755/11755 [00:02<00:00, 4346.52it/s]\n",
      "Up/Downscaling in progress: 100%|██████████| 11755/11755 [00:06<00:00, 1929.10it/s]\n"
     ]
    },
    {
     "name": "stdout",
     "output_type": "stream",
     "text": [
      "Resampled shape of data: (11755, 800, 4)\n",
      "Scaler min/max for x: -269.95294, 269.95294\n",
      "Scaler min/max for y: -267.79135, 267.79135\n",
      "Scaler min/max for z: -259.8614807551465, 1478.1123507452767\n",
      "Scaler min/max for charge: 101.0, 3857.0\n",
      "\n",
      "The full transformed data shape: (11755, 800, 4)\n",
      "Pipeline for Run 128\n"
     ]
    },
    {
     "name": "stderr",
     "output_type": "stream",
     "text": [
      "Stripping Point Clouds of ID information: 100%|██████████| 5054/5054 [00:01<00:00, 4344.17it/s]\n",
      "Up/Downscaling in progress: 100%|██████████| 5054/5054 [00:02<00:00, 1929.65it/s]\n"
     ]
    },
    {
     "name": "stdout",
     "output_type": "stream",
     "text": [
      "Resampled shape of data: (5054, 800, 4)\n",
      "Scaler min/max for x: -269.95294, 269.95294\n",
      "Scaler min/max for y: -267.79135, 267.79135\n",
      "Scaler min/max for z: -197.72524080672687, 1596.4951637331187\n",
      "Scaler min/max for charge: 101.0, 3836.0\n",
      "\n",
      "The full transformed data shape: (5054, 800, 4)\n",
      "Pipeline for Run 129\n"
     ]
    },
    {
     "name": "stderr",
     "output_type": "stream",
     "text": [
      "Stripping Point Clouds of ID information: 100%|██████████| 12746/12746 [00:02<00:00, 4430.09it/s]\n",
      "Up/Downscaling in progress: 100%|██████████| 12746/12746 [00:06<00:00, 1887.58it/s]\n"
     ]
    },
    {
     "name": "stdout",
     "output_type": "stream",
     "text": [
      "Resampled shape of data: (12746, 800, 4)\n",
      "Scaler min/max for x: -269.95294, 269.95294\n",
      "Scaler min/max for y: -267.79135, 267.79135\n",
      "Scaler min/max for z: -297.0620495104107, 1541.8777278202854\n",
      "Scaler min/max for charge: 101.0, 3868.0\n",
      "\n",
      "The full transformed data shape: (12746, 800, 4)\n",
      "Pipeline for Run 130\n"
     ]
    },
    {
     "name": "stderr",
     "output_type": "stream",
     "text": [
      "Stripping Point Clouds of ID information: 100%|██████████| 10463/10463 [00:02<00:00, 4195.13it/s]\n",
      "Up/Downscaling in progress: 100%|██████████| 10463/10463 [00:05<00:00, 1890.69it/s]\n"
     ]
    },
    {
     "name": "stdout",
     "output_type": "stream",
     "text": [
      "Resampled shape of data: (10463, 800, 4)\n",
      "Scaler min/max for x: -269.95294, 269.95294\n",
      "Scaler min/max for y: -267.79135, 267.79135\n",
      "Scaler min/max for z: -357.84952590741926, 1471.2650712832374\n",
      "Scaler min/max for charge: 101.0, 3855.0\n",
      "\n",
      "The full transformed data shape: (10463, 800, 4)\n",
      "Pipeline for Run 131\n"
     ]
    },
    {
     "name": "stderr",
     "output_type": "stream",
     "text": [
      "Stripping Point Clouds of ID information: 100%|██████████| 12/12 [00:00<00:00, 472.05it/s]\n",
      "Up/Downscaling in progress: 100%|██████████| 12/12 [00:00<00:00, 3736.02it/s]"
     ]
    },
    {
     "name": "stdout",
     "output_type": "stream",
     "text": [
      "Resampled shape of data: (12, 800, 4)\n",
      "Scaler min/max for x: -240.50352, 196.32941\n",
      "Scaler min/max for y: -191.27954, 191.27954\n",
      "Scaler min/max for z: -188.4928728555948, 1199.8030339359473\n",
      "Scaler min/max for charge: 101.0, 3692.0\n",
      "\n",
      "The full transformed data shape: (12, 800, 4)\n",
      "Pipeline for Run 132\n"
     ]
    },
    {
     "name": "stderr",
     "output_type": "stream",
     "text": [
      "\n",
      "Stripping Point Clouds of ID information: 100%|██████████| 13523/13523 [00:03<00:00, 4470.71it/s]\n",
      "Up/Downscaling in progress: 100%|██████████| 13523/13523 [00:07<00:00, 1912.73it/s]\n"
     ]
    },
    {
     "name": "stdout",
     "output_type": "stream",
     "text": [
      "Resampled shape of data: (13523, 800, 4)\n",
      "Scaler min/max for x: -269.95294, 269.95294\n",
      "Scaler min/max for y: -267.79135, 267.79135\n",
      "Scaler min/max for z: -259.93734102017476, 1516.4866727427288\n",
      "Scaler min/max for charge: 101.0, 3853.0\n",
      "\n",
      "The full transformed data shape: (13523, 800, 4)\n",
      "Pipeline for Run 133\n"
     ]
    },
    {
     "name": "stderr",
     "output_type": "stream",
     "text": [
      "Stripping Point Clouds of ID information: 100%|██████████| 13876/13876 [00:03<00:00, 4030.09it/s]\n",
      "Up/Downscaling in progress: 100%|██████████| 13875/13875 [00:07<00:00, 1928.33it/s]\n"
     ]
    },
    {
     "name": "stdout",
     "output_type": "stream",
     "text": [
      "Resampled shape of data: (13875, 800, 4)\n",
      "Scaler min/max for x: -269.95294, 269.95294\n",
      "Scaler min/max for y: -267.79135, 267.79135\n",
      "Scaler min/max for z: -236.06250488475246, 1500.4242238111146\n",
      "Scaler min/max for charge: 101.0, 3860.0\n",
      "\n",
      "The full transformed data shape: (13875, 800, 4)\n",
      "Pipeline for Run 134\n"
     ]
    },
    {
     "name": "stderr",
     "output_type": "stream",
     "text": [
      "Stripping Point Clouds of ID information: 100%|██████████| 14121/14121 [00:03<00:00, 4014.86it/s]\n",
      "Up/Downscaling in progress: 100%|██████████| 14121/14121 [00:07<00:00, 1947.76it/s]\n"
     ]
    },
    {
     "name": "stdout",
     "output_type": "stream",
     "text": [
      "Resampled shape of data: (14121, 800, 4)\n",
      "Scaler min/max for x: -269.95294, 269.95294\n",
      "Scaler min/max for y: -267.79135, 267.79135\n",
      "Scaler min/max for z: -255.10629788556653, 1496.369281289873\n",
      "Scaler min/max for charge: 101.0, 3851.0\n",
      "\n",
      "The full transformed data shape: (14121, 800, 4)\n",
      "Pipeline for Run 135\n"
     ]
    },
    {
     "name": "stderr",
     "output_type": "stream",
     "text": [
      "Stripping Point Clouds of ID information: 100%|██████████| 14543/14543 [00:03<00:00, 4006.98it/s]\n",
      "Up/Downscaling in progress: 100%|██████████| 14543/14543 [00:07<00:00, 1929.51it/s]\n"
     ]
    },
    {
     "name": "stdout",
     "output_type": "stream",
     "text": [
      "Resampled shape of data: (14543, 800, 4)\n",
      "Scaler min/max for x: -269.95294, 269.95294\n",
      "Scaler min/max for y: -267.79135, 267.79135\n",
      "Scaler min/max for z: -243.7142093488955, 1625.5097761671734\n",
      "Scaler min/max for charge: 101.0, 3880.0\n",
      "\n",
      "The full transformed data shape: (14543, 800, 4)\n",
      "Pipeline for Run 136\n"
     ]
    },
    {
     "name": "stderr",
     "output_type": "stream",
     "text": [
      "Stripping Point Clouds of ID information: 100%|██████████| 17134/17134 [00:04<00:00, 3649.79it/s]\n",
      "Up/Downscaling in progress: 100%|██████████| 17134/17134 [00:08<00:00, 1936.00it/s]\n"
     ]
    },
    {
     "name": "stdout",
     "output_type": "stream",
     "text": [
      "Resampled shape of data: (17134, 800, 4)\n",
      "Scaler min/max for x: -269.95294, 269.95294\n",
      "Scaler min/max for y: -267.79135, 267.79135\n",
      "Scaler min/max for z: -276.1463252676819, 1610.5228573316324\n",
      "Scaler min/max for charge: 101.0, 3850.0\n",
      "\n",
      "The full transformed data shape: (17134, 800, 4)\n",
      "Pipeline for Run 137\n"
     ]
    },
    {
     "name": "stderr",
     "output_type": "stream",
     "text": [
      "Stripping Point Clouds of ID information: 100%|██████████| 17471/17471 [00:04<00:00, 4118.00it/s]\n",
      "Up/Downscaling in progress: 100%|██████████| 17471/17471 [00:09<00:00, 1927.47it/s]\n"
     ]
    },
    {
     "name": "stdout",
     "output_type": "stream",
     "text": [
      "Resampled shape of data: (17471, 800, 4)\n",
      "Scaler min/max for x: -269.95294, 269.95294\n",
      "Scaler min/max for y: -267.79135, 267.79135\n",
      "Scaler min/max for z: -297.81595572369827, 1750.0447495717722\n",
      "Scaler min/max for charge: 101.0, 3863.0\n",
      "\n",
      "The full transformed data shape: (17471, 800, 4)\n",
      "Skipping run 138, as it does not exist\n",
      "Pipeline for Run 139\n"
     ]
    },
    {
     "name": "stderr",
     "output_type": "stream",
     "text": [
      "Stripping Point Clouds of ID information: 100%|██████████| 15577/15577 [00:03<00:00, 4084.35it/s]\n",
      "Up/Downscaling in progress: 100%|██████████| 15577/15577 [00:08<00:00, 1925.77it/s]\n"
     ]
    },
    {
     "name": "stdout",
     "output_type": "stream",
     "text": [
      "Resampled shape of data: (15577, 800, 4)\n",
      "Scaler min/max for x: -269.95294, 269.95294\n",
      "Scaler min/max for y: -267.79135, 267.79135\n",
      "Scaler min/max for z: -380.96981264391684, 1518.5530878350917\n",
      "Scaler min/max for charge: 101.0, 3844.0\n",
      "\n",
      "The full transformed data shape: (15577, 800, 4)\n",
      "Pipeline for Run 140\n"
     ]
    },
    {
     "name": "stderr",
     "output_type": "stream",
     "text": [
      "Stripping Point Clouds of ID information: 100%|██████████| 17435/17435 [00:04<00:00, 4052.75it/s]\n",
      "Up/Downscaling in progress: 100%|██████████| 17435/17435 [00:09<00:00, 1928.13it/s]\n"
     ]
    },
    {
     "name": "stdout",
     "output_type": "stream",
     "text": [
      "Resampled shape of data: (17435, 800, 4)\n",
      "Scaler min/max for x: -269.95294, 269.95294\n",
      "Scaler min/max for y: -267.79135, 267.79135\n",
      "Scaler min/max for z: -379.4084942006603, 1520.8666111512796\n",
      "Scaler min/max for charge: 101.0, 3844.0\n",
      "\n",
      "The full transformed data shape: (17435, 800, 4)\n",
      "Pipeline for Run 141\n"
     ]
    },
    {
     "name": "stderr",
     "output_type": "stream",
     "text": [
      "Stripping Point Clouds of ID information: 100%|██████████| 13488/13488 [00:02<00:00, 5675.25it/s]\n",
      "Up/Downscaling in progress: 100%|██████████| 13487/13487 [00:07<00:00, 1846.07it/s]\n"
     ]
    },
    {
     "name": "stdout",
     "output_type": "stream",
     "text": [
      "Resampled shape of data: (13487, 800, 4)\n",
      "Scaler min/max for x: -269.95294, 269.95294\n",
      "Scaler min/max for y: -267.79135, 267.79135\n",
      "Scaler min/max for z: -426.92979535900133, 1489.916042686106\n",
      "Scaler min/max for charge: 101.0, 3884.0\n",
      "\n",
      "The full transformed data shape: (13487, 800, 4)\n",
      "Pipeline for Run 142\n"
     ]
    },
    {
     "name": "stderr",
     "output_type": "stream",
     "text": [
      "Stripping Point Clouds of ID information: 100%|██████████| 14634/14634 [00:02<00:00, 5319.70it/s]\n",
      "Up/Downscaling in progress: 100%|██████████| 14634/14634 [00:07<00:00, 1882.85it/s]\n"
     ]
    },
    {
     "name": "stdout",
     "output_type": "stream",
     "text": [
      "Resampled shape of data: (14634, 800, 4)\n",
      "Scaler min/max for x: -269.95294, 269.95294\n",
      "Scaler min/max for y: -267.79135, 267.79135\n",
      "Scaler min/max for z: -281.9659030451307, 1441.4148727288903\n",
      "Scaler min/max for charge: 101.0, 3860.0\n",
      "\n",
      "The full transformed data shape: (14634, 800, 4)\n",
      "Pipeline for Run 143\n"
     ]
    },
    {
     "name": "stderr",
     "output_type": "stream",
     "text": [
      "Stripping Point Clouds of ID information: 100%|██████████| 15834/15834 [00:03<00:00, 4587.38it/s]\n",
      "Up/Downscaling in progress: 100%|██████████| 15834/15834 [00:08<00:00, 1880.36it/s]\n"
     ]
    },
    {
     "name": "stdout",
     "output_type": "stream",
     "text": [
      "Resampled shape of data: (15834, 800, 4)\n",
      "Scaler min/max for x: -269.95294, 269.95294\n",
      "Scaler min/max for y: -267.79135, 267.79135\n",
      "Scaler min/max for z: -245.2022530100541, 1468.6648455412446\n",
      "Scaler min/max for charge: 101.0, 3871.0\n",
      "\n",
      "The full transformed data shape: (15834, 800, 4)\n",
      "Pipeline for Run 144\n"
     ]
    },
    {
     "name": "stderr",
     "output_type": "stream",
     "text": [
      "Stripping Point Clouds of ID information: 100%|██████████| 15394/15394 [00:03<00:00, 4507.04it/s]\n",
      "Up/Downscaling in progress: 100%|██████████| 15394/15394 [00:08<00:00, 1918.52it/s]\n"
     ]
    },
    {
     "name": "stdout",
     "output_type": "stream",
     "text": [
      "Resampled shape of data: (15394, 800, 4)\n",
      "Scaler min/max for x: -269.95294, 269.95294\n",
      "Scaler min/max for y: -267.79135, 267.79135\n",
      "Scaler min/max for z: -228.5897663354445, 1539.5545874563325\n",
      "Scaler min/max for charge: 101.0, 3867.0\n",
      "\n",
      "The full transformed data shape: (15394, 800, 4)\n",
      "Pipeline for Run 145\n"
     ]
    },
    {
     "name": "stderr",
     "output_type": "stream",
     "text": [
      "Stripping Point Clouds of ID information: 100%|██████████| 15231/15231 [00:03<00:00, 4502.53it/s]\n",
      "Up/Downscaling in progress: 100%|██████████| 15231/15231 [00:08<00:00, 1797.16it/s]\n"
     ]
    },
    {
     "name": "stdout",
     "output_type": "stream",
     "text": [
      "Resampled shape of data: (15231, 800, 4)\n",
      "Scaler min/max for x: -269.95294, 269.95294\n",
      "Scaler min/max for y: -267.79135, 267.79135\n",
      "Scaler min/max for z: -361.46843098475205, 1626.1436201601405\n",
      "Scaler min/max for charge: 101.0, 3859.0\n",
      "\n",
      "The full transformed data shape: (15231, 800, 4)\n",
      "Pipeline for Run 146\n"
     ]
    },
    {
     "name": "stderr",
     "output_type": "stream",
     "text": [
      "Stripping Point Clouds of ID information: 100%|██████████| 15497/15497 [00:03<00:00, 4003.43it/s]\n",
      "Up/Downscaling in progress: 100%|██████████| 15497/15497 [00:08<00:00, 1894.75it/s]\n"
     ]
    },
    {
     "name": "stdout",
     "output_type": "stream",
     "text": [
      "Resampled shape of data: (15497, 800, 4)\n",
      "Scaler min/max for x: -269.95294, 269.95294\n",
      "Scaler min/max for y: -267.79135, 267.79135\n",
      "Scaler min/max for z: -329.08971902378056, 1423.8642314677156\n",
      "Scaler min/max for charge: 101.0, 3850.0\n",
      "\n",
      "The full transformed data shape: (15497, 800, 4)\n",
      "Skipping run 147, as it does not exist\n",
      "Pipeline for Run 148\n"
     ]
    },
    {
     "name": "stderr",
     "output_type": "stream",
     "text": [
      "Stripping Point Clouds of ID information: 100%|██████████| 9710/9710 [00:02<00:00, 4271.18it/s]\n",
      "Up/Downscaling in progress: 100%|██████████| 9709/9709 [00:04<00:00, 1945.17it/s]\n"
     ]
    },
    {
     "name": "stdout",
     "output_type": "stream",
     "text": [
      "Resampled shape of data: (9709, 800, 4)\n",
      "Scaler min/max for x: -269.95294, 269.95294\n",
      "Scaler min/max for y: -267.79135, 267.79135\n",
      "Scaler min/max for z: -318.81343109848274, 1483.3349312269033\n",
      "Scaler min/max for charge: 101.0, 3855.0\n",
      "\n",
      "The full transformed data shape: (9709, 800, 4)\n",
      "Skipping run 149, as it does not exist\n",
      "Pipeline for Run 150\n"
     ]
    },
    {
     "name": "stderr",
     "output_type": "stream",
     "text": [
      "Stripping Point Clouds of ID information: 100%|██████████| 8901/8901 [00:01<00:00, 6976.93it/s]\n",
      "Up/Downscaling in progress: 100%|██████████| 8901/8901 [00:04<00:00, 1810.39it/s]\n"
     ]
    },
    {
     "name": "stdout",
     "output_type": "stream",
     "text": [
      "Resampled shape of data: (8901, 800, 4)\n",
      "Scaler min/max for x: -269.95294, 269.95294\n",
      "Scaler min/max for y: -267.79135, 267.79135\n",
      "Scaler min/max for z: -215.21214378486576, 1598.296306133657\n",
      "Scaler min/max for charge: 101.0, 3834.0\n",
      "\n",
      "The full transformed data shape: (8901, 800, 4)\n",
      "Pipeline for Run 151\n"
     ]
    },
    {
     "name": "stderr",
     "output_type": "stream",
     "text": [
      "Stripping Point Clouds of ID information: 100%|██████████| 11567/11567 [00:01<00:00, 6483.16it/s]\n",
      "Up/Downscaling in progress: 100%|██████████| 11567/11567 [00:06<00:00, 1848.55it/s]\n"
     ]
    },
    {
     "name": "stdout",
     "output_type": "stream",
     "text": [
      "Resampled shape of data: (11567, 800, 4)\n",
      "Scaler min/max for x: -269.95294, 269.95294\n",
      "Scaler min/max for y: -267.79135, 267.79135\n",
      "Scaler min/max for z: -244.75724224894304, 1477.3055023493826\n",
      "Scaler min/max for charge: 101.0, 3836.0\n",
      "\n",
      "The full transformed data shape: (11567, 800, 4)\n",
      "Pipeline for Run 152\n"
     ]
    },
    {
     "name": "stderr",
     "output_type": "stream",
     "text": [
      "Stripping Point Clouds of ID information: 100%|██████████| 12095/12095 [00:01<00:00, 6361.92it/s]\n",
      "Up/Downscaling in progress: 100%|██████████| 12095/12095 [00:06<00:00, 1831.65it/s]\n"
     ]
    },
    {
     "name": "stdout",
     "output_type": "stream",
     "text": [
      "Resampled shape of data: (12095, 800, 4)\n",
      "Scaler min/max for x: -269.95294, 269.95294\n",
      "Scaler min/max for y: -267.79135, 267.79135\n",
      "Scaler min/max for z: -297.11840561539503, 1433.3410379017787\n",
      "Scaler min/max for charge: 101.0, 3854.0\n",
      "\n",
      "The full transformed data shape: (12095, 800, 4)\n",
      "Pipeline for Run 153\n"
     ]
    },
    {
     "name": "stderr",
     "output_type": "stream",
     "text": [
      "Stripping Point Clouds of ID information: 100%|██████████| 12595/12595 [00:02<00:00, 6076.66it/s]\n",
      "Up/Downscaling in progress: 100%|██████████| 12594/12594 [00:06<00:00, 1834.86it/s]\n"
     ]
    },
    {
     "name": "stdout",
     "output_type": "stream",
     "text": [
      "Resampled shape of data: (12594, 800, 4)\n",
      "Scaler min/max for x: -269.95294, 269.95294\n",
      "Scaler min/max for y: -267.79135, 267.79135\n",
      "Scaler min/max for z: -320.5779939350874, 1443.1204217098348\n",
      "Scaler min/max for charge: 101.0, 3830.0\n",
      "\n",
      "The full transformed data shape: (12594, 800, 4)\n",
      "Pipeline for Run 154\n"
     ]
    },
    {
     "name": "stderr",
     "output_type": "stream",
     "text": [
      "Stripping Point Clouds of ID information: 100%|██████████| 13462/13462 [00:02<00:00, 6016.46it/s]\n",
      "Up/Downscaling in progress: 100%|██████████| 13462/13462 [00:07<00:00, 1846.90it/s]\n"
     ]
    },
    {
     "name": "stdout",
     "output_type": "stream",
     "text": [
      "Resampled shape of data: (13462, 800, 4)\n",
      "Scaler min/max for x: -269.95294, 269.95294\n",
      "Scaler min/max for y: -267.79135, 267.79135\n",
      "Scaler min/max for z: -311.3120691103756, 1559.7636962571014\n",
      "Scaler min/max for charge: 101.0, 3852.0\n",
      "\n",
      "The full transformed data shape: (13462, 800, 4)\n",
      "Pipeline for Run 155\n"
     ]
    },
    {
     "name": "stderr",
     "output_type": "stream",
     "text": [
      "Stripping Point Clouds of ID information: 100%|██████████| 16705/16705 [00:02<00:00, 6104.48it/s]\n",
      "Up/Downscaling in progress: 100%|██████████| 16704/16704 [00:09<00:00, 1840.42it/s]\n"
     ]
    },
    {
     "name": "stdout",
     "output_type": "stream",
     "text": [
      "Resampled shape of data: (16704, 800, 4)\n",
      "Scaler min/max for x: -269.95294, 269.95294\n",
      "Scaler min/max for y: -267.79135, 267.79135\n",
      "Scaler min/max for z: -213.49118413085182, 1544.4703752529567\n",
      "Scaler min/max for charge: 101.0, 3826.0\n",
      "\n",
      "The full transformed data shape: (16704, 800, 4)\n",
      "Pipeline for Run 156\n"
     ]
    },
    {
     "name": "stderr",
     "output_type": "stream",
     "text": [
      "Stripping Point Clouds of ID information: 100%|██████████| 14925/14925 [00:02<00:00, 6267.85it/s]\n",
      "Up/Downscaling in progress: 100%|██████████| 14925/14925 [00:08<00:00, 1837.87it/s]\n"
     ]
    },
    {
     "name": "stdout",
     "output_type": "stream",
     "text": [
      "Resampled shape of data: (14925, 800, 4)\n",
      "Scaler min/max for x: -269.95294, 269.95294\n",
      "Scaler min/max for y: -267.79135, 267.79135\n",
      "Scaler min/max for z: -292.72548524642167, 1617.7713048657795\n",
      "Scaler min/max for charge: 101.0, 3827.0\n",
      "\n",
      "The full transformed data shape: (14925, 800, 4)\n",
      "Pipeline for Run 157\n"
     ]
    },
    {
     "name": "stderr",
     "output_type": "stream",
     "text": [
      "Stripping Point Clouds of ID information: 100%|██████████| 14272/14272 [00:02<00:00, 6136.23it/s]\n",
      "Up/Downscaling in progress: 100%|██████████| 14272/14272 [00:07<00:00, 1833.12it/s]\n"
     ]
    },
    {
     "name": "stdout",
     "output_type": "stream",
     "text": [
      "Resampled shape of data: (14272, 800, 4)\n",
      "Scaler min/max for x: -269.95294, 269.95294\n",
      "Scaler min/max for y: -267.79135, 267.79135\n",
      "Scaler min/max for z: -304.1995255100509, 1596.4385497747785\n",
      "Scaler min/max for charge: 101.0, 3824.0\n",
      "\n",
      "The full transformed data shape: (14272, 800, 4)\n",
      "Pipeline for Run 158\n"
     ]
    },
    {
     "name": "stderr",
     "output_type": "stream",
     "text": [
      "Stripping Point Clouds of ID information: 100%|██████████| 18108/18108 [00:02<00:00, 6166.17it/s]\n",
      "Up/Downscaling in progress: 100%|██████████| 18106/18106 [00:09<00:00, 1845.29it/s]\n"
     ]
    },
    {
     "name": "stdout",
     "output_type": "stream",
     "text": [
      "Resampled shape of data: (18106, 800, 4)\n",
      "Scaler min/max for x: -269.95294, 269.95294\n",
      "Scaler min/max for y: -267.79135, 267.79135\n",
      "Scaler min/max for z: -302.1571617278193, 1414.031808187101\n",
      "Scaler min/max for charge: 101.0, 3869.0\n",
      "\n",
      "The full transformed data shape: (18106, 800, 4)\n",
      "Pipeline for Run 159\n"
     ]
    },
    {
     "name": "stderr",
     "output_type": "stream",
     "text": [
      "Stripping Point Clouds of ID information: 100%|██████████| 15481/15481 [00:02<00:00, 6277.63it/s]\n",
      "Up/Downscaling in progress: 100%|██████████| 15480/15480 [00:08<00:00, 1851.75it/s]\n"
     ]
    },
    {
     "name": "stdout",
     "output_type": "stream",
     "text": [
      "Resampled shape of data: (15480, 800, 4)\n",
      "Scaler min/max for x: -269.95294, 269.95294\n",
      "Scaler min/max for y: -267.79135, 267.79135\n",
      "Scaler min/max for z: -211.28756185964923, 1629.8074637421907\n",
      "Scaler min/max for charge: 101.0, 3869.0\n",
      "\n",
      "The full transformed data shape: (15480, 800, 4)\n",
      "Pipeline for Run 160\n"
     ]
    },
    {
     "name": "stderr",
     "output_type": "stream",
     "text": [
      "Stripping Point Clouds of ID information: 100%|██████████| 16534/16534 [00:02<00:00, 5982.00it/s]\n",
      "Up/Downscaling in progress: 100%|██████████| 16534/16534 [00:10<00:00, 1640.33it/s]\n"
     ]
    },
    {
     "name": "stdout",
     "output_type": "stream",
     "text": [
      "Resampled shape of data: (16534, 800, 4)\n",
      "Scaler min/max for x: -269.95294, 269.95294\n",
      "Scaler min/max for y: -267.79135, 267.79135\n",
      "Scaler min/max for z: -224.79537514229503, 1446.1109893073465\n",
      "Scaler min/max for charge: 101.0, 3845.0\n",
      "\n",
      "The full transformed data shape: (16534, 800, 4)\n",
      "Pipeline for Run 161\n"
     ]
    },
    {
     "name": "stderr",
     "output_type": "stream",
     "text": [
      "Stripping Point Clouds of ID information: 100%|██████████| 6036/6036 [00:00<00:00, 6135.21it/s]\n",
      "Up/Downscaling in progress: 100%|██████████| 6036/6036 [00:03<00:00, 1686.62it/s]\n"
     ]
    },
    {
     "name": "stdout",
     "output_type": "stream",
     "text": [
      "Resampled shape of data: (6036, 800, 4)\n",
      "Scaler min/max for x: -269.95294, 269.95294\n",
      "Scaler min/max for y: -267.79135, 267.79135\n",
      "Scaler min/max for z: -195.3152080956242, 1349.011242832544\n",
      "Scaler min/max for charge: 101.0, 3820.0\n",
      "\n",
      "The full transformed data shape: (6036, 800, 4)\n",
      "Pipeline for Run 162\n"
     ]
    },
    {
     "name": "stderr",
     "output_type": "stream",
     "text": [
      "Stripping Point Clouds of ID information: 100%|██████████| 17610/17610 [00:02<00:00, 5878.52it/s]\n",
      "Up/Downscaling in progress: 100%|██████████| 17609/17609 [00:09<00:00, 1769.45it/s]\n"
     ]
    },
    {
     "name": "stdout",
     "output_type": "stream",
     "text": [
      "Resampled shape of data: (17609, 800, 4)\n",
      "Scaler min/max for x: -269.95294, 269.95294\n",
      "Scaler min/max for y: -267.79135, 267.79135\n",
      "Scaler min/max for z: -183.08557194200927, 1468.390932395692\n",
      "Scaler min/max for charge: 101.0, 3862.0\n",
      "\n",
      "The full transformed data shape: (17609, 800, 4)\n",
      "Pipeline for Run 163\n"
     ]
    },
    {
     "name": "stderr",
     "output_type": "stream",
     "text": [
      "Stripping Point Clouds of ID information: 100%|██████████| 20321/20321 [00:03<00:00, 5786.98it/s]\n",
      "Up/Downscaling in progress: 100%|██████████| 20320/20320 [00:11<00:00, 1802.53it/s]\n"
     ]
    },
    {
     "name": "stdout",
     "output_type": "stream",
     "text": [
      "Resampled shape of data: (20320, 800, 4)\n",
      "Scaler min/max for x: -269.95294, 269.95294\n",
      "Scaler min/max for y: -267.79135, 267.79135\n",
      "Scaler min/max for z: -388.23985116920625, 1483.2832207092688\n",
      "Scaler min/max for charge: 101.0, 3842.0\n",
      "\n",
      "The full transformed data shape: (20320, 800, 4)\n",
      "Pipeline for Run 164\n"
     ]
    },
    {
     "name": "stderr",
     "output_type": "stream",
     "text": [
      "Stripping Point Clouds of ID information: 100%|██████████| 16290/16290 [00:02<00:00, 5794.78it/s]\n",
      "Up/Downscaling in progress: 100%|██████████| 16290/16290 [00:09<00:00, 1800.37it/s]\n"
     ]
    },
    {
     "name": "stdout",
     "output_type": "stream",
     "text": [
      "Resampled shape of data: (16290, 800, 4)\n",
      "Scaler min/max for x: -269.95294, 269.95294\n",
      "Scaler min/max for y: -267.79135, 267.79135\n",
      "Scaler min/max for z: -315.87176408800804, 1537.7413564594121\n",
      "Scaler min/max for charge: 101.0, 3842.0\n",
      "\n",
      "The full transformed data shape: (16290, 800, 4)\n",
      "Pipeline for Run 165\n"
     ]
    },
    {
     "name": "stderr",
     "output_type": "stream",
     "text": [
      "Stripping Point Clouds of ID information: 100%|██████████| 20451/20451 [00:03<00:00, 5872.02it/s]\n",
      "Up/Downscaling in progress: 100%|██████████| 20450/20450 [00:11<00:00, 1812.49it/s]\n"
     ]
    },
    {
     "name": "stdout",
     "output_type": "stream",
     "text": [
      "Resampled shape of data: (20450, 800, 4)\n",
      "Scaler min/max for x: -269.95294, 269.95294\n",
      "Scaler min/max for y: -267.79135, 267.79135\n",
      "Scaler min/max for z: -313.5526408265444, 1728.1590298885108\n",
      "Scaler min/max for charge: 101.0, 3851.0\n",
      "\n",
      "The full transformed data shape: (20450, 800, 4)\n",
      "Pipeline for Run 166\n"
     ]
    },
    {
     "name": "stderr",
     "output_type": "stream",
     "text": [
      "Stripping Point Clouds of ID information: 100%|██████████| 17151/17151 [00:02<00:00, 5858.80it/s]\n",
      "Up/Downscaling in progress: 100%|██████████| 17151/17151 [00:09<00:00, 1811.26it/s]\n"
     ]
    },
    {
     "name": "stdout",
     "output_type": "stream",
     "text": [
      "Resampled shape of data: (17151, 800, 4)\n",
      "Scaler min/max for x: -269.95294, 269.95294\n",
      "Scaler min/max for y: -267.79135, 267.79135\n",
      "Scaler min/max for z: -297.05773218781934, 1474.068609986437\n",
      "Scaler min/max for charge: 101.0, 3831.0\n",
      "\n",
      "The full transformed data shape: (17151, 800, 4)\n",
      "Pipeline for Run 167\n"
     ]
    },
    {
     "name": "stderr",
     "output_type": "stream",
     "text": [
      "Stripping Point Clouds of ID information: 100%|██████████| 16933/16933 [00:02<00:00, 5768.20it/s]\n",
      "Up/Downscaling in progress: 100%|██████████| 16932/16932 [00:09<00:00, 1820.87it/s]\n"
     ]
    },
    {
     "name": "stdout",
     "output_type": "stream",
     "text": [
      "Resampled shape of data: (16932, 800, 4)\n",
      "Scaler min/max for x: -269.95294, 269.95294\n",
      "Scaler min/max for y: -267.79135, 267.79135\n",
      "Scaler min/max for z: -327.1412748955484, 1484.4325240068795\n",
      "Scaler min/max for charge: 101.0, 3841.0\n",
      "\n",
      "The full transformed data shape: (16932, 800, 4)\n",
      "Pipeline for Run 168\n"
     ]
    },
    {
     "name": "stderr",
     "output_type": "stream",
     "text": [
      "Stripping Point Clouds of ID information: 100%|██████████| 16716/16716 [00:02<00:00, 5658.26it/s]\n",
      "Up/Downscaling in progress: 100%|██████████| 16715/16715 [00:09<00:00, 1836.18it/s]\n"
     ]
    },
    {
     "name": "stdout",
     "output_type": "stream",
     "text": [
      "Resampled shape of data: (16715, 800, 4)\n",
      "Scaler min/max for x: -269.95294, 269.95294\n",
      "Scaler min/max for y: -267.79135, 267.79135\n",
      "Scaler min/max for z: -203.12184107342637, 1570.9010114133648\n",
      "Scaler min/max for charge: 101.0, 3845.0\n",
      "\n",
      "The full transformed data shape: (16715, 800, 4)\n",
      "Pipeline for Run 169\n"
     ]
    },
    {
     "name": "stderr",
     "output_type": "stream",
     "text": [
      "Stripping Point Clouds of ID information: 100%|██████████| 12080/12080 [00:02<00:00, 5789.17it/s]\n",
      "Up/Downscaling in progress: 100%|██████████| 12080/12080 [00:06<00:00, 1825.44it/s]\n"
     ]
    },
    {
     "name": "stdout",
     "output_type": "stream",
     "text": [
      "Resampled shape of data: (12080, 800, 4)\n",
      "Scaler min/max for x: -269.95294, 269.95294\n",
      "Scaler min/max for y: -267.79135, 267.79135\n",
      "Scaler min/max for z: -225.92017255456756, 1470.3667879025982\n",
      "Scaler min/max for charge: 101.0, 3865.0\n",
      "\n",
      "The full transformed data shape: (12080, 800, 4)\n"
     ]
    }
   ],
   "source": [
    "eps = 1e-8\n",
    "\n",
    "for run in range(54,170):\n",
    "    target_size = 800\n",
    "    isotope = \"16O\"\n",
    "    pipeline_1 = Pipeline([\n",
    "        (\"conversion\", ConvertingFiles(run_num=run)),\n",
    "        # (\"outlier\",OutlierDetection()), #getting rid of the outliers\n",
    "        (\"sampler\", UpDownScaling(target_size,isotope)),\n",
    "    ]) #up/down sampler \n",
    "\n",
    "    # The `pipeline_2` is a data processing pipeline that consists of the following steps:\n",
    "    pipeline_2 = Pipeline([\n",
    "        (\"scaling\", ScalingData()),\n",
    "    ]) #scaling (w/ concatonated dataset)\n",
    "    \n",
    "    \n",
    "    if run < 100:\n",
    "        file_path = f\"/Volumes/researchEXT/O16/no_efield/PointcloudLegacy/run_00{run}.h5\"\n",
    "    else:\n",
    "        file_path = f\"/Volumes/researchEXT/O16/no_efield/PointcloudLegacy/run_0{run}.h5\"\n",
    "    file_exists = Path(file_path)\n",
    "    if file_exists.exists():\n",
    "        print(f\"Pipeline for Run {run}\")\n",
    "        data_static = pipeline_1.fit_transform(file_path)\n",
    "        transformed_data = pipeline_2.fit_transform(data_static)\n",
    "        print()\n",
    "        print(f\"The full transformed data shape: {transformed_data.shape}\")\n",
    "\n",
    "        mask = np.any((transformed_data > 1+eps) | (transformed_data < -1-eps), axis=(1, 2))\n",
    "        indices = np.argwhere(mask)\n",
    "        assert len(indices) == 0, \"Points remain that are not within range[-1,1]\"\n",
    "        \n",
    "        np.save(f\"/Volumes/researchEXT/O16/ml models/data_exp_pred/run{run}_{isotope}_size{target_size}_test_features.npy\", transformed_data) #FILE CHANGE\n",
    "        \n",
    "    else:\n",
    "        print(f\"Skipping run {run}, as it does not exist\")\n"
   ]
  },
  {
   "cell_type": "markdown",
   "metadata": {},
   "source": [
    "<h2>Saving to .npy files</h2>"
   ]
  },
  {
   "cell_type": "code",
   "execution_count": null,
   "metadata": {},
   "outputs": [],
   "source": [
    "\n",
    "\n"
   ]
  }
 ],
 "metadata": {
  "kernelspec": {
   "display_name": ".venv",
   "language": "python",
   "name": "python3"
  },
  "language_info": {
   "codemirror_mode": {
    "name": "ipython",
    "version": 3
   },
   "file_extension": ".py",
   "mimetype": "text/x-python",
   "name": "python",
   "nbconvert_exporter": "python",
   "pygments_lexer": "ipython3",
   "version": "3.11.13"
  }
 },
 "nbformat": 4,
 "nbformat_minor": 2
}
