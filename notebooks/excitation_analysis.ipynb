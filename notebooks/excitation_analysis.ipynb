{
 "cells": [
  {
   "cell_type": "markdown",
   "id": "5f039cd3",
   "metadata": {},
   "source": [
    "<h2>Analysis for looking throgh the Interprlated data</h2>"
   ]
  },
  {
   "cell_type": "code",
   "execution_count": null,
   "id": "70cdedfd",
   "metadata": {},
   "outputs": [],
   "source": []
  }
 ],
 "metadata": {
  "language_info": {
   "name": "python"
  }
 },
 "nbformat": 4,
 "nbformat_minor": 5
}
